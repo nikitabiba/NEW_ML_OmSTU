{
 "cells": [
  {
   "cell_type": "code",
   "execution_count": 93,
   "id": "ebbaf20c",
   "metadata": {},
   "outputs": [],
   "source": [
    "import tensorflow as tf\n",
    "from tensorflow.keras.models import Sequential\n",
    "from tensorflow.keras.layers import Dense\n",
    "import numpy as np\n",
    "import pandas as pd\n",
    "import matplotlib.pyplot as plt\n",
    "import seaborn as sns\n",
    "from sklearn.preprocessing import StandardScaler\n",
    "from sklearn.model_selection import train_test_split, RandomizedSearchCV, KFold, cross_val_score\n",
    "import optuna\n",
    "from sklearn.neural_network import MLPClassifier, MLPRegressor\n",
    "from sklearn.metrics import accuracy_score, mean_squared_error, mean_absolute_error, r2_score\n",
    "from imblearn.over_sampling import SMOTE\n",
    "from sklearn.feature_selection import SelectKBest, f_classif, f_regression, mutual_info_classif, mutual_info_regression\n",
    "from sklearn.pipeline import Pipeline\n",
    "from hyperopt import hp, fmin, tpe, Trials, STATUS_OK\n",
    "from keras_tuner.tuners import RandomSearch\n",
    "from tensorflow import keras\n",
    "import kerastuner as kt\n",
    "from tensorflow.keras.callbacks import ModelCheckpoint\n",
    "import os\n",
    "import logging\n",
    "from tensorflow import keras\n",
    "import warnings"
   ]
  },
  {
   "cell_type": "code",
   "execution_count": 69,
   "id": "2ae72696",
   "metadata": {},
   "outputs": [],
   "source": [
    "warnings.filterwarnings('ignore')"
   ]
  },
  {
   "cell_type": "code",
   "execution_count": 70,
   "id": "3110f602",
   "metadata": {},
   "outputs": [],
   "source": [
    "N_SAMPLES = 100"
   ]
  },
  {
   "cell_type": "code",
   "execution_count": 71,
   "id": "2cc27bff",
   "metadata": {},
   "outputs": [],
   "source": [
    "class_df = pd.read_csv('../data/csgo_processed.csv', sep=';')\n",
    "class_y = class_df['bomb_planted'].values[:N_SAMPLES]\n",
    "class_X = class_df.drop(['bomb_planted'], axis=1).values[:N_SAMPLES]\n",
    "oversampler = SMOTE(random_state=0)\n",
    "class_X, class_y = oversampler.fit_resample(class_X, class_y)\n",
    "ss = StandardScaler()\n",
    "class_X = ss.fit_transform(class_X)"
   ]
  },
  {
   "cell_type": "code",
   "execution_count": 72,
   "id": "54f66d9b",
   "metadata": {},
   "outputs": [],
   "source": [
    "reg_df = pd.read_csv('../data/diamonds_processed.csv', sep=';')\n",
    "reg_y = reg_df['price'].values[:N_SAMPLES]\n",
    "reg_X = reg_df.drop(['price'], axis=1).values[:N_SAMPLES]\n",
    "ss = StandardScaler()\n",
    "reg_X = ss.fit_transform(reg_X)"
   ]
  },
  {
   "cell_type": "code",
   "execution_count": 73,
   "id": "2b202178",
   "metadata": {},
   "outputs": [],
   "source": [
    "k_best_cls = SelectKBest(score_func=f_classif, k=2)\n",
    "k_best_reg = SelectKBest(score_func=f_regression, k=9)\n",
    "class_X = k_best_cls.fit_transform(class_X, class_y)\n",
    "reg_X = k_best_reg.fit_transform(reg_X, reg_y)"
   ]
  },
  {
   "cell_type": "code",
   "execution_count": 74,
   "id": "fb877ce9",
   "metadata": {},
   "outputs": [],
   "source": [
    "categorical_y = tf.keras.utils.to_categorical(class_y)"
   ]
  },
  {
   "cell_type": "code",
   "execution_count": 75,
   "id": "d6faac7e",
   "metadata": {},
   "outputs": [],
   "source": [
    "class_X_train, class_X_test, class_y_train, class_y_test = train_test_split(class_X, categorical_y, test_size=0.2, random_state=0)\n",
    "reg_X_train, reg_X_test, reg_y_train, reg_y_test = train_test_split(reg_X, reg_y, test_size=0.2, random_state=0)"
   ]
  },
  {
   "cell_type": "code",
   "execution_count": 76,
   "id": "0a515ba1",
   "metadata": {},
   "outputs": [],
   "source": [
    "mlp_rand_param_dist = {\n",
    "    'hidden_layer_sizes': [(50,), (100,), (50, 50), (100, 100)],\n",
    "    'activation': ['identity', 'logistic', 'tanh', 'relu'],\n",
    "    'solver': ['lbfgs', 'sgd', 'adam'],\n",
    "    'alpha': [0.0001, 0.001, 0.01, 0.1],\n",
    "    'learning_rate': ['constant', 'invscaling', 'adaptive'],\n",
    "    'max_iter': [100, 200, 500, 1000]\n",
    "}\n",
    "\n",
    "space = {\n",
    "    'hidden_layer_sizes': hp.choice('hidden_layer_sizes', [(50,), (100,), (50, 50), (100, 100)]),\n",
    "    'activation': hp.choice('activation', ['identity', 'logistic', 'tanh', 'relu']),\n",
    "    'solver': hp.choice('solver', ['lbfgs', 'sgd', 'adam']),\n",
    "    'alpha': hp.loguniform('alpha', -4, -2),\n",
    "    'learning_rate': hp.choice('learning_rate', ['constant', 'invscaling', 'adaptive']),\n",
    "    'max_iter': hp.choice('max_iter', [200, 500, 1000]),\n",
    "    'early_stopping': hp.choice('early_stopping', [True, False]),\n",
    "    'n_iter_no_change': 10\n",
    "}"
   ]
  },
  {
   "cell_type": "code",
   "execution_count": 77,
   "id": "bba2f6be",
   "metadata": {},
   "outputs": [
    {
     "name": "stdout",
     "output_type": "stream",
     "text": [
      "MLPClassifier:\n",
      "Best score found:  0.9928571428571429\n",
      "Best parameters found:  {'solver': 'adam', 'max_iter': 200, 'learning_rate': 'invscaling', 'hidden_layer_sizes': (100, 100), 'alpha': 0.1, 'activation': 'tanh'}\n"
     ]
    }
   ],
   "source": [
    "class_mlp = MLPClassifier()\n",
    "\n",
    "kf = KFold(n_splits=10)\n",
    "\n",
    "random_search = RandomizedSearchCV(class_mlp, param_distributions=mlp_rand_param_dist, n_iter=10, cv=kf, n_jobs=-1)\n",
    "\n",
    "random_search.fit(class_X_train, class_y_train)\n",
    "print(\"MLPClassifier:\")\n",
    "print(\"Best score found: \", random_search.best_score_)\n",
    "print(\"Best parameters found: \", random_search.best_params_)\n",
    "class_mlp = random_search.best_estimator_"
   ]
  },
  {
   "cell_type": "code",
   "execution_count": 78,
   "id": "28f25efe",
   "metadata": {},
   "outputs": [
    {
     "name": "stdout",
     "output_type": "stream",
     "text": [
      "MLPRegressor:\n",
      "Best score found:  0.8170620828703772\n",
      "Best parameters found:  {'solver': 'sgd', 'max_iter': 1000, 'learning_rate': 'invscaling', 'hidden_layer_sizes': (50,), 'alpha': 0.1, 'activation': 'relu'}\n"
     ]
    }
   ],
   "source": [
    "reg_mlp = MLPRegressor()\n",
    "\n",
    "kf = KFold(n_splits=10)\n",
    "\n",
    "random_search = RandomizedSearchCV(reg_mlp, param_distributions=mlp_rand_param_dist, n_iter=10, cv=kf, n_jobs=-1)\n",
    "\n",
    "random_search.fit(reg_X_train, reg_y_train)\n",
    "print(\"MLPRegressor:\")\n",
    "print(\"Best score found: \", random_search.best_score_)\n",
    "print(\"Best parameters found: \", random_search.best_params_)\n",
    "reg_mlp = random_search.best_estimator_"
   ]
  },
  {
   "cell_type": "code",
   "execution_count": 79,
   "id": "a59df652",
   "metadata": {},
   "outputs": [
    {
     "name": "stderr",
     "output_type": "stream",
     "text": [
      "[I 2025-05-30 04:34:43,804] A new study created in memory with name: no-name-af737949-b544-42f7-aa18-b7b362df9ce3\n",
      "[I 2025-05-30 04:34:43,940] Trial 0 finished with value: 0.2719047619047619 and parameters: {'hidden_layer_sizes': (50, 50), 'activation': 'logistic', 'solver': 'sgd', 'alpha': 0.01, 'learning_rate': 'adaptive', 'max_iter': 100}. Best is trial 0 with value: 0.2719047619047619.\n",
      "[I 2025-05-30 04:34:44,046] Trial 1 finished with value: 0.971904761904762 and parameters: {'hidden_layer_sizes': (100,), 'activation': 'tanh', 'solver': 'adam', 'alpha': 0.0001, 'learning_rate': 'invscaling', 'max_iter': 200}. Best is trial 1 with value: 0.971904761904762.\n",
      "[I 2025-05-30 04:34:44,123] Trial 2 finished with value: 0.9928571428571429 and parameters: {'hidden_layer_sizes': (100,), 'activation': 'relu', 'solver': 'lbfgs', 'alpha': 0.01, 'learning_rate': 'invscaling', 'max_iter': 200}. Best is trial 2 with value: 0.9928571428571429.\n",
      "[I 2025-05-30 04:34:44,356] Trial 3 finished with value: 0.4076190476190476 and parameters: {'hidden_layer_sizes': (100, 100), 'activation': 'logistic', 'solver': 'sgd', 'alpha': 0.001, 'learning_rate': 'adaptive', 'max_iter': 200}. Best is trial 2 with value: 0.9928571428571429.\n",
      "[I 2025-05-30 04:34:44,871] Trial 4 finished with value: 0.9928571428571429 and parameters: {'hidden_layer_sizes': (50, 50), 'activation': 'tanh', 'solver': 'sgd', 'alpha': 0.0001, 'learning_rate': 'adaptive', 'max_iter': 1000}. Best is trial 2 with value: 0.9928571428571429.\n",
      "[I 2025-05-30 04:34:45,307] Trial 5 finished with value: 0.9928571428571429 and parameters: {'hidden_layer_sizes': (100, 100), 'activation': 'relu', 'solver': 'lbfgs', 'alpha': 0.1, 'learning_rate': 'constant', 'max_iter': 500}. Best is trial 2 with value: 0.9928571428571429.\n",
      "[I 2025-05-30 04:34:45,354] Trial 6 finished with value: 0.9928571428571429 and parameters: {'hidden_layer_sizes': (100, 100), 'activation': 'tanh', 'solver': 'lbfgs', 'alpha': 0.001, 'learning_rate': 'invscaling', 'max_iter': 100}. Best is trial 2 with value: 0.9928571428571429.\n",
      "[I 2025-05-30 04:34:45,432] Trial 7 finished with value: 0.971904761904762 and parameters: {'hidden_layer_sizes': (100,), 'activation': 'identity', 'solver': 'adam', 'alpha': 0.01, 'learning_rate': 'constant', 'max_iter': 200}. Best is trial 2 with value: 0.9928571428571429.\n",
      "[I 2025-05-30 04:34:45,478] Trial 8 finished with value: 0.23285714285714287 and parameters: {'hidden_layer_sizes': (100,), 'activation': 'relu', 'solver': 'sgd', 'alpha': 0.001, 'learning_rate': 'invscaling', 'max_iter': 100}. Best is trial 2 with value: 0.9928571428571429.\n",
      "[I 2025-05-30 04:34:46,083] Trial 9 finished with value: 0.5342857142857141 and parameters: {'hidden_layer_sizes': (100, 100), 'activation': 'identity', 'solver': 'sgd', 'alpha': 0.001, 'learning_rate': 'invscaling', 'max_iter': 1000}. Best is trial 2 with value: 0.9928571428571429.\n",
      "[I 2025-05-30 04:34:46,113] Trial 10 finished with value: 0.9928571428571429 and parameters: {'hidden_layer_sizes': (50,), 'activation': 'relu', 'solver': 'lbfgs', 'alpha': 0.01, 'learning_rate': 'invscaling', 'max_iter': 500}. Best is trial 2 with value: 0.9928571428571429.\n",
      "[I 2025-05-30 04:34:46,143] Trial 11 finished with value: 0.9928571428571429 and parameters: {'hidden_layer_sizes': (50, 50), 'activation': 'tanh', 'solver': 'lbfgs', 'alpha': 0.0001, 'learning_rate': 'adaptive', 'max_iter': 1000}. Best is trial 2 with value: 0.9928571428571429.\n",
      "[I 2025-05-30 04:34:46,658] Trial 12 finished with value: 0.9928571428571429 and parameters: {'hidden_layer_sizes': (50, 50), 'activation': 'relu', 'solver': 'sgd', 'alpha': 0.0001, 'learning_rate': 'adaptive', 'max_iter': 1000}. Best is trial 2 with value: 0.9928571428571429.\n",
      "[I 2025-05-30 04:34:46,689] Trial 13 finished with value: 0.9928571428571429 and parameters: {'hidden_layer_sizes': (50,), 'activation': 'tanh', 'solver': 'lbfgs', 'alpha': 0.1, 'learning_rate': 'adaptive', 'max_iter': 200}. Best is trial 2 with value: 0.9928571428571429.\n",
      "[I 2025-05-30 04:34:46,983] Trial 14 finished with value: 0.9928571428571429 and parameters: {'hidden_layer_sizes': (100,), 'activation': 'relu', 'solver': 'adam', 'alpha': 0.01, 'learning_rate': 'constant', 'max_iter': 1000}. Best is trial 2 with value: 0.9928571428571429.\n",
      "[I 2025-05-30 04:34:47,385] Trial 15 finished with value: 0.3566666666666666 and parameters: {'hidden_layer_sizes': (50, 50), 'activation': 'tanh', 'solver': 'sgd', 'alpha': 0.0001, 'learning_rate': 'invscaling', 'max_iter': 1000}. Best is trial 2 with value: 0.9928571428571429.\n",
      "[I 2025-05-30 04:34:47,445] Trial 16 finished with value: 0.9928571428571429 and parameters: {'hidden_layer_sizes': (100,), 'activation': 'logistic', 'solver': 'lbfgs', 'alpha': 0.0001, 'learning_rate': 'adaptive', 'max_iter': 200}. Best is trial 2 with value: 0.9928571428571429.\n",
      "[I 2025-05-30 04:34:47,659] Trial 17 finished with value: 0.3052380952380952 and parameters: {'hidden_layer_sizes': (50, 50), 'activation': 'identity', 'solver': 'sgd', 'alpha': 0.01, 'learning_rate': 'invscaling', 'max_iter': 500}. Best is trial 2 with value: 0.9928571428571429.\n",
      "[I 2025-05-30 04:34:47,721] Trial 18 finished with value: 0.9928571428571429 and parameters: {'hidden_layer_sizes': (50,), 'activation': 'relu', 'solver': 'lbfgs', 'alpha': 0.1, 'learning_rate': 'adaptive', 'max_iter': 1000}. Best is trial 2 with value: 0.9928571428571429.\n",
      "[I 2025-05-30 04:34:47,861] Trial 19 finished with value: 0.9928571428571429 and parameters: {'hidden_layer_sizes': (50, 50), 'activation': 'tanh', 'solver': 'adam', 'alpha': 0.01, 'learning_rate': 'constant', 'max_iter': 200}. Best is trial 2 with value: 0.9928571428571429.\n",
      "[I 2025-05-30 04:34:47,968] Trial 20 finished with value: 0.9233333333333335 and parameters: {'hidden_layer_sizes': (100,), 'activation': 'tanh', 'solver': 'sgd', 'alpha': 0.0001, 'learning_rate': 'adaptive', 'max_iter': 200}. Best is trial 2 with value: 0.9928571428571429.\n",
      "[I 2025-05-30 04:34:48,321] Trial 21 finished with value: 0.9928571428571429 and parameters: {'hidden_layer_sizes': (100, 100), 'activation': 'relu', 'solver': 'lbfgs', 'alpha': 0.1, 'learning_rate': 'constant', 'max_iter': 500}. Best is trial 2 with value: 0.9928571428571429.\n",
      "[I 2025-05-30 04:34:48,599] Trial 22 finished with value: 0.9928571428571429 and parameters: {'hidden_layer_sizes': (100, 100), 'activation': 'relu', 'solver': 'lbfgs', 'alpha': 0.1, 'learning_rate': 'constant', 'max_iter': 500}. Best is trial 2 with value: 0.9928571428571429.\n",
      "[I 2025-05-30 04:34:48,936] Trial 23 finished with value: 0.9928571428571429 and parameters: {'hidden_layer_sizes': (100, 100), 'activation': 'relu', 'solver': 'lbfgs', 'alpha': 0.1, 'learning_rate': 'constant', 'max_iter': 500}. Best is trial 2 with value: 0.9928571428571429.\n",
      "[I 2025-05-30 04:34:49,029] Trial 24 finished with value: 0.9928571428571429 and parameters: {'hidden_layer_sizes': (50, 50), 'activation': 'relu', 'solver': 'lbfgs', 'alpha': 0.1, 'learning_rate': 'constant', 'max_iter': 500}. Best is trial 2 with value: 0.9928571428571429.\n",
      "[I 2025-05-30 04:34:49,336] Trial 25 finished with value: 0.9928571428571429 and parameters: {'hidden_layer_sizes': (100, 100), 'activation': 'relu', 'solver': 'lbfgs', 'alpha': 0.1, 'learning_rate': 'constant', 'max_iter': 500}. Best is trial 2 with value: 0.9928571428571429.\n",
      "[I 2025-05-30 04:34:49,428] Trial 26 finished with value: 0.9928571428571429 and parameters: {'hidden_layer_sizes': (100,), 'activation': 'logistic', 'solver': 'lbfgs', 'alpha': 0.01, 'learning_rate': 'invscaling', 'max_iter': 1000}. Best is trial 2 with value: 0.9928571428571429.\n",
      "[I 2025-05-30 04:34:49,459] Trial 27 finished with value: 0.9928571428571429 and parameters: {'hidden_layer_sizes': (50,), 'activation': 'identity', 'solver': 'lbfgs', 'alpha': 0.0001, 'learning_rate': 'adaptive', 'max_iter': 100}. Best is trial 2 with value: 0.9928571428571429.\n",
      "[I 2025-05-30 04:34:49,568] Trial 28 finished with value: 0.9647619047619047 and parameters: {'hidden_layer_sizes': (100,), 'activation': 'relu', 'solver': 'adam', 'alpha': 0.0001, 'learning_rate': 'constant', 'max_iter': 200}. Best is trial 2 with value: 0.9928571428571429.\n",
      "[I 2025-05-30 04:34:49,675] Trial 29 finished with value: 0.3566666666666667 and parameters: {'hidden_layer_sizes': (50, 50), 'activation': 'logistic', 'solver': 'sgd', 'alpha': 0.01, 'learning_rate': 'invscaling', 'max_iter': 100}. Best is trial 2 with value: 0.9928571428571429.\n",
      "[I 2025-05-30 04:34:50,141] Trial 30 finished with value: 0.971904761904762 and parameters: {'hidden_layer_sizes': (100, 100), 'activation': 'tanh', 'solver': 'sgd', 'alpha': 0.1, 'learning_rate': 'adaptive', 'max_iter': 500}. Best is trial 2 with value: 0.9928571428571429.\n",
      "[I 2025-05-30 04:34:50,203] Trial 31 finished with value: 0.9928571428571429 and parameters: {'hidden_layer_sizes': (100, 100), 'activation': 'tanh', 'solver': 'lbfgs', 'alpha': 0.001, 'learning_rate': 'invscaling', 'max_iter': 100}. Best is trial 2 with value: 0.9928571428571429.\n",
      "[I 2025-05-30 04:34:50,263] Trial 32 finished with value: 0.9928571428571429 and parameters: {'hidden_layer_sizes': (100, 100), 'activation': 'tanh', 'solver': 'lbfgs', 'alpha': 0.001, 'learning_rate': 'invscaling', 'max_iter': 100}. Best is trial 2 with value: 0.9928571428571429.\n",
      "[I 2025-05-30 04:34:50,326] Trial 33 finished with value: 0.9928571428571429 and parameters: {'hidden_layer_sizes': (100, 100), 'activation': 'tanh', 'solver': 'lbfgs', 'alpha': 0.001, 'learning_rate': 'invscaling', 'max_iter': 100}. Best is trial 2 with value: 0.9928571428571429.\n",
      "[I 2025-05-30 04:34:50,388] Trial 34 finished with value: 0.9928571428571429 and parameters: {'hidden_layer_sizes': (100, 100), 'activation': 'tanh', 'solver': 'lbfgs', 'alpha': 0.001, 'learning_rate': 'invscaling', 'max_iter': 100}. Best is trial 2 with value: 0.9928571428571429.\n",
      "[I 2025-05-30 04:34:50,496] Trial 35 finished with value: 0.9647619047619049 and parameters: {'hidden_layer_sizes': (100,), 'activation': 'tanh', 'solver': 'adam', 'alpha': 0.001, 'learning_rate': 'invscaling', 'max_iter': 200}. Best is trial 2 with value: 0.9928571428571429.\n",
      "[I 2025-05-30 04:34:50,589] Trial 36 finished with value: 0.4423809523809523 and parameters: {'hidden_layer_sizes': (100, 100), 'activation': 'identity', 'solver': 'sgd', 'alpha': 0.01, 'learning_rate': 'invscaling', 'max_iter': 100}. Best is trial 2 with value: 0.9928571428571429.\n",
      "[I 2025-05-30 04:34:50,635] Trial 37 finished with value: 0.9928571428571429 and parameters: {'hidden_layer_sizes': (50, 50), 'activation': 'relu', 'solver': 'lbfgs', 'alpha': 0.001, 'learning_rate': 'invscaling', 'max_iter': 1000}. Best is trial 2 with value: 0.9928571428571429.\n",
      "[I 2025-05-30 04:34:50,698] Trial 38 finished with value: 0.9928571428571429 and parameters: {'hidden_layer_sizes': (100,), 'activation': 'logistic', 'solver': 'lbfgs', 'alpha': 0.0001, 'learning_rate': 'adaptive', 'max_iter': 200}. Best is trial 2 with value: 0.9928571428571429.\n",
      "[I 2025-05-30 04:34:51,549] Trial 39 finished with value: 0.9928571428571429 and parameters: {'hidden_layer_sizes': (100, 100), 'activation': 'tanh', 'solver': 'sgd', 'alpha': 0.01, 'learning_rate': 'constant', 'max_iter': 1000}. Best is trial 2 with value: 0.9928571428571429.\n",
      "[I 2025-05-30 04:34:51,610] Trial 40 finished with value: 0.909047619047619 and parameters: {'hidden_layer_sizes': (50,), 'activation': 'relu', 'solver': 'adam', 'alpha': 0.001, 'learning_rate': 'invscaling', 'max_iter': 100}. Best is trial 2 with value: 0.9928571428571429.\n",
      "[I 2025-05-30 04:34:51,642] Trial 41 finished with value: 0.9928571428571429 and parameters: {'hidden_layer_sizes': (50,), 'activation': 'relu', 'solver': 'lbfgs', 'alpha': 0.01, 'learning_rate': 'invscaling', 'max_iter': 500}. Best is trial 2 with value: 0.9928571428571429.\n",
      "[I 2025-05-30 04:34:51,687] Trial 42 finished with value: 0.9928571428571429 and parameters: {'hidden_layer_sizes': (50,), 'activation': 'relu', 'solver': 'lbfgs', 'alpha': 0.01, 'learning_rate': 'invscaling', 'max_iter': 500}. Best is trial 2 with value: 0.9928571428571429.\n",
      "[I 2025-05-30 04:34:51,718] Trial 43 finished with value: 0.9928571428571429 and parameters: {'hidden_layer_sizes': (50,), 'activation': 'relu', 'solver': 'lbfgs', 'alpha': 0.01, 'learning_rate': 'invscaling', 'max_iter': 500}. Best is trial 2 with value: 0.9928571428571429.\n",
      "[I 2025-05-30 04:34:51,764] Trial 44 finished with value: 0.9928571428571429 and parameters: {'hidden_layer_sizes': (50,), 'activation': 'relu', 'solver': 'lbfgs', 'alpha': 0.01, 'learning_rate': 'adaptive', 'max_iter': 500}. Best is trial 2 with value: 0.9928571428571429.\n",
      "[I 2025-05-30 04:34:52,118] Trial 45 finished with value: 0.5623809523809523 and parameters: {'hidden_layer_sizes': (50, 50), 'activation': 'identity', 'solver': 'sgd', 'alpha': 0.0001, 'learning_rate': 'invscaling', 'max_iter': 1000}. Best is trial 2 with value: 0.9928571428571429.\n",
      "[I 2025-05-30 04:34:52,179] Trial 46 finished with value: 0.9928571428571429 and parameters: {'hidden_layer_sizes': (100,), 'activation': 'relu', 'solver': 'lbfgs', 'alpha': 0.01, 'learning_rate': 'invscaling', 'max_iter': 200}. Best is trial 2 with value: 0.9928571428571429.\n",
      "[I 2025-05-30 04:34:52,211] Trial 47 finished with value: 0.9928571428571429 and parameters: {'hidden_layer_sizes': (50, 50), 'activation': 'tanh', 'solver': 'lbfgs', 'alpha': 0.0001, 'learning_rate': 'adaptive', 'max_iter': 500}. Best is trial 2 with value: 0.9928571428571429.\n",
      "[I 2025-05-30 04:34:52,531] Trial 48 finished with value: 0.9647619047619047 and parameters: {'hidden_layer_sizes': (50,), 'activation': 'relu', 'solver': 'sgd', 'alpha': 0.1, 'learning_rate': 'constant', 'max_iter': 1000}. Best is trial 2 with value: 0.9928571428571429.\n",
      "[I 2025-05-30 04:34:52,563] Trial 49 finished with value: 0.9928571428571429 and parameters: {'hidden_layer_sizes': (100,), 'activation': 'tanh', 'solver': 'lbfgs', 'alpha': 0.01, 'learning_rate': 'adaptive', 'max_iter': 200}. Best is trial 2 with value: 0.9928571428571429.\n",
      "[I 2025-05-30 04:34:53,700] Trial 50 finished with value: 0.9928571428571429 and parameters: {'hidden_layer_sizes': (100, 100), 'activation': 'logistic', 'solver': 'adam', 'alpha': 0.001, 'learning_rate': 'invscaling', 'max_iter': 500}. Best is trial 2 with value: 0.9928571428571429.\n",
      "[I 2025-05-30 04:34:53,732] Trial 51 finished with value: 0.9928571428571429 and parameters: {'hidden_layer_sizes': (50, 50), 'activation': 'tanh', 'solver': 'lbfgs', 'alpha': 0.0001, 'learning_rate': 'adaptive', 'max_iter': 1000}. Best is trial 2 with value: 0.9928571428571429.\n",
      "[I 2025-05-30 04:34:53,762] Trial 52 finished with value: 0.9928571428571429 and parameters: {'hidden_layer_sizes': (50, 50), 'activation': 'tanh', 'solver': 'lbfgs', 'alpha': 0.0001, 'learning_rate': 'adaptive', 'max_iter': 1000}. Best is trial 2 with value: 0.9928571428571429.\n",
      "[I 2025-05-30 04:34:53,792] Trial 53 finished with value: 0.9928571428571429 and parameters: {'hidden_layer_sizes': (50, 50), 'activation': 'tanh', 'solver': 'lbfgs', 'alpha': 0.0001, 'learning_rate': 'adaptive', 'max_iter': 1000}. Best is trial 2 with value: 0.9928571428571429.\n",
      "[I 2025-05-30 04:34:53,823] Trial 54 finished with value: 0.9928571428571429 and parameters: {'hidden_layer_sizes': (50, 50), 'activation': 'tanh', 'solver': 'lbfgs', 'alpha': 0.0001, 'learning_rate': 'adaptive', 'max_iter': 1000}. Best is trial 2 with value: 0.9928571428571429.\n",
      "[I 2025-05-30 04:34:53,960] Trial 55 finished with value: 0.9928571428571429 and parameters: {'hidden_layer_sizes': (50, 50), 'activation': 'relu', 'solver': 'lbfgs', 'alpha': 0.1, 'learning_rate': 'constant', 'max_iter': 1000}. Best is trial 2 with value: 0.9928571428571429.\n",
      "[I 2025-05-30 04:34:54,159] Trial 56 finished with value: 0.9233333333333335 and parameters: {'hidden_layer_sizes': (100, 100), 'activation': 'relu', 'solver': 'sgd', 'alpha': 0.0001, 'learning_rate': 'adaptive', 'max_iter': 200}. Best is trial 2 with value: 0.9928571428571429.\n",
      "[I 2025-05-30 04:34:54,190] Trial 57 finished with value: 0.9928571428571429 and parameters: {'hidden_layer_sizes': (100,), 'activation': 'tanh', 'solver': 'lbfgs', 'alpha': 0.1, 'learning_rate': 'constant', 'max_iter': 500}. Best is trial 2 with value: 0.9928571428571429.\n",
      "[I 2025-05-30 04:34:54,220] Trial 58 finished with value: 0.9928571428571429 and parameters: {'hidden_layer_sizes': (50, 50), 'activation': 'identity', 'solver': 'lbfgs', 'alpha': 0.01, 'learning_rate': 'invscaling', 'max_iter': 1000}. Best is trial 2 with value: 0.9928571428571429.\n",
      "[I 2025-05-30 04:34:54,393] Trial 59 finished with value: 0.9366666666666668 and parameters: {'hidden_layer_sizes': (50,), 'activation': 'relu', 'solver': 'sgd', 'alpha': 0.0001, 'learning_rate': 'adaptive', 'max_iter': 500}. Best is trial 2 with value: 0.9928571428571429.\n",
      "[I 2025-05-30 04:34:54,518] Trial 60 finished with value: 0.9928571428571429 and parameters: {'hidden_layer_sizes': (100, 100), 'activation': 'tanh', 'solver': 'lbfgs', 'alpha': 0.1, 'learning_rate': 'constant', 'max_iter': 100}. Best is trial 2 with value: 0.9928571428571429.\n",
      "[I 2025-05-30 04:34:55,046] Trial 61 finished with value: 0.9928571428571429 and parameters: {'hidden_layer_sizes': (50, 50), 'activation': 'relu', 'solver': 'sgd', 'alpha': 0.0001, 'learning_rate': 'adaptive', 'max_iter': 1000}. Best is trial 2 with value: 0.9928571428571429.\n",
      "[I 2025-05-30 04:34:55,577] Trial 62 finished with value: 0.9928571428571429 and parameters: {'hidden_layer_sizes': (50, 50), 'activation': 'relu', 'solver': 'sgd', 'alpha': 0.0001, 'learning_rate': 'adaptive', 'max_iter': 1000}. Best is trial 2 with value: 0.9928571428571429.\n",
      "[I 2025-05-30 04:34:56,090] Trial 63 finished with value: 0.9928571428571429 and parameters: {'hidden_layer_sizes': (50, 50), 'activation': 'relu', 'solver': 'sgd', 'alpha': 0.0001, 'learning_rate': 'adaptive', 'max_iter': 1000}. Best is trial 2 with value: 0.9928571428571429.\n",
      "[I 2025-05-30 04:34:56,214] Trial 64 finished with value: 0.9233333333333335 and parameters: {'hidden_layer_sizes': (50, 50), 'activation': 'relu', 'solver': 'sgd', 'alpha': 0.0001, 'learning_rate': 'adaptive', 'max_iter': 200}. Best is trial 2 with value: 0.9928571428571429.\n",
      "[I 2025-05-30 04:34:57,324] Trial 65 finished with value: 0.9928571428571429 and parameters: {'hidden_layer_sizes': (100,), 'activation': 'logistic', 'solver': 'adam', 'alpha': 0.001, 'learning_rate': 'invscaling', 'max_iter': 1000}. Best is trial 2 with value: 0.9928571428571429.\n",
      "[I 2025-05-30 04:34:57,416] Trial 66 finished with value: 0.9928571428571429 and parameters: {'hidden_layer_sizes': (100, 100), 'activation': 'tanh', 'solver': 'lbfgs', 'alpha': 0.01, 'learning_rate': 'adaptive', 'max_iter': 100}. Best is trial 2 with value: 0.9928571428571429.\n",
      "[I 2025-05-30 04:34:57,508] Trial 67 finished with value: 0.34809523809523807 and parameters: {'hidden_layer_sizes': (50, 50), 'activation': 'relu', 'solver': 'sgd', 'alpha': 0.0001, 'learning_rate': 'invscaling', 'max_iter': 500}. Best is trial 2 with value: 0.9928571428571429.\n",
      "[I 2025-05-30 04:34:57,831] Trial 68 finished with value: 0.9928571428571429 and parameters: {'hidden_layer_sizes': (100, 100), 'activation': 'relu', 'solver': 'lbfgs', 'alpha': 0.1, 'learning_rate': 'constant', 'max_iter': 1000}. Best is trial 2 with value: 0.9928571428571429.\n",
      "[I 2025-05-30 04:34:57,861] Trial 69 finished with value: 0.9928571428571429 and parameters: {'hidden_layer_sizes': (100,), 'activation': 'tanh', 'solver': 'lbfgs', 'alpha': 0.001, 'learning_rate': 'invscaling', 'max_iter': 200}. Best is trial 2 with value: 0.9928571428571429.\n",
      "[I 2025-05-30 04:34:57,907] Trial 70 finished with value: 0.909047619047619 and parameters: {'hidden_layer_sizes': (50,), 'activation': 'identity', 'solver': 'sgd', 'alpha': 0.01, 'learning_rate': 'adaptive', 'max_iter': 100}. Best is trial 2 with value: 0.9928571428571429.\n",
      "[I 2025-05-30 04:34:57,939] Trial 71 finished with value: 0.9928571428571429 and parameters: {'hidden_layer_sizes': (50,), 'activation': 'tanh', 'solver': 'lbfgs', 'alpha': 0.1, 'learning_rate': 'adaptive', 'max_iter': 200}. Best is trial 2 with value: 0.9928571428571429.\n",
      "[I 2025-05-30 04:34:57,969] Trial 72 finished with value: 0.9928571428571429 and parameters: {'hidden_layer_sizes': (50,), 'activation': 'tanh', 'solver': 'lbfgs', 'alpha': 0.1, 'learning_rate': 'adaptive', 'max_iter': 200}. Best is trial 2 with value: 0.9928571428571429.\n",
      "[I 2025-05-30 04:34:58,001] Trial 73 finished with value: 0.9928571428571429 and parameters: {'hidden_layer_sizes': (50,), 'activation': 'tanh', 'solver': 'lbfgs', 'alpha': 0.1, 'learning_rate': 'adaptive', 'max_iter': 200}. Best is trial 2 with value: 0.9928571428571429.\n",
      "[I 2025-05-30 04:34:58,031] Trial 74 finished with value: 0.9928571428571429 and parameters: {'hidden_layer_sizes': (50,), 'activation': 'tanh', 'solver': 'lbfgs', 'alpha': 0.1, 'learning_rate': 'adaptive', 'max_iter': 200}. Best is trial 2 with value: 0.9928571428571429.\n",
      "[I 2025-05-30 04:34:58,092] Trial 75 finished with value: 0.9857142857142858 and parameters: {'hidden_layer_sizes': (100, 100), 'activation': 'relu', 'solver': 'lbfgs', 'alpha': 0.0001, 'learning_rate': 'invscaling', 'max_iter': 500}. Best is trial 2 with value: 0.9928571428571429.\n",
      "[I 2025-05-30 04:34:58,138] Trial 76 finished with value: 0.9928571428571429 and parameters: {'hidden_layer_sizes': (50, 50), 'activation': 'tanh', 'solver': 'lbfgs', 'alpha': 0.01, 'learning_rate': 'constant', 'max_iter': 1000}. Best is trial 2 with value: 0.9928571428571429.\n",
      "[I 2025-05-30 04:34:58,230] Trial 77 finished with value: 0.9233333333333335 and parameters: {'hidden_layer_sizes': (50,), 'activation': 'relu', 'solver': 'adam', 'alpha': 0.001, 'learning_rate': 'invscaling', 'max_iter': 200}. Best is trial 2 with value: 0.9928571428571429.\n",
      "[I 2025-05-30 04:34:58,490] Trial 78 finished with value: 0.9928571428571429 and parameters: {'hidden_layer_sizes': (100, 100), 'activation': 'logistic', 'solver': 'lbfgs', 'alpha': 0.1, 'learning_rate': 'adaptive', 'max_iter': 500}. Best is trial 2 with value: 0.9928571428571429.\n",
      "[I 2025-05-30 04:34:58,552] Trial 79 finished with value: 0.3361904761904762 and parameters: {'hidden_layer_sizes': (100,), 'activation': 'tanh', 'solver': 'sgd', 'alpha': 0.01, 'learning_rate': 'invscaling', 'max_iter': 100}. Best is trial 2 with value: 0.9928571428571429.\n",
      "[I 2025-05-30 04:34:58,582] Trial 80 finished with value: 0.9857142857142858 and parameters: {'hidden_layer_sizes': (50, 50), 'activation': 'relu', 'solver': 'lbfgs', 'alpha': 0.0001, 'learning_rate': 'adaptive', 'max_iter': 1000}. Best is trial 2 with value: 0.9928571428571429.\n",
      "[I 2025-05-30 04:34:58,889] Trial 81 finished with value: 0.9928571428571429 and parameters: {'hidden_layer_sizes': (100,), 'activation': 'relu', 'solver': 'adam', 'alpha': 0.01, 'learning_rate': 'constant', 'max_iter': 1000}. Best is trial 2 with value: 0.9928571428571429.\n",
      "[I 2025-05-30 04:34:59,182] Trial 82 finished with value: 0.9928571428571429 and parameters: {'hidden_layer_sizes': (100,), 'activation': 'relu', 'solver': 'adam', 'alpha': 0.01, 'learning_rate': 'constant', 'max_iter': 1000}. Best is trial 2 with value: 0.9928571428571429.\n",
      "[I 2025-05-30 04:34:59,475] Trial 83 finished with value: 0.9928571428571429 and parameters: {'hidden_layer_sizes': (100,), 'activation': 'relu', 'solver': 'adam', 'alpha': 0.01, 'learning_rate': 'constant', 'max_iter': 1000}. Best is trial 2 with value: 0.9928571428571429.\n",
      "[I 2025-05-30 04:34:59,782] Trial 84 finished with value: 0.9928571428571429 and parameters: {'hidden_layer_sizes': (100,), 'activation': 'relu', 'solver': 'adam', 'alpha': 0.01, 'learning_rate': 'constant', 'max_iter': 1000}. Best is trial 2 with value: 0.9928571428571429.\n",
      "[I 2025-05-30 04:34:59,828] Trial 85 finished with value: 0.9928571428571429 and parameters: {'hidden_layer_sizes': (100, 100), 'activation': 'tanh', 'solver': 'lbfgs', 'alpha': 0.001, 'learning_rate': 'constant', 'max_iter': 500}. Best is trial 2 with value: 0.9928571428571429.\n",
      "[I 2025-05-30 04:34:59,921] Trial 86 finished with value: 0.9233333333333335 and parameters: {'hidden_layer_sizes': (50,), 'activation': 'relu', 'solver': 'adam', 'alpha': 0.01, 'learning_rate': 'invscaling', 'max_iter': 200}. Best is trial 2 with value: 0.9928571428571429.\n",
      "[I 2025-05-30 04:34:59,966] Trial 87 finished with value: 0.9928571428571429 and parameters: {'hidden_layer_sizes': (50, 50), 'activation': 'identity', 'solver': 'lbfgs', 'alpha': 0.1, 'learning_rate': 'adaptive', 'max_iter': 1000}. Best is trial 2 with value: 0.9928571428571429.\n",
      "[I 2025-05-30 04:35:00,028] Trial 88 finished with value: 0.36 and parameters: {'hidden_layer_sizes': (100,), 'activation': 'tanh', 'solver': 'sgd', 'alpha': 0.0001, 'learning_rate': 'invscaling', 'max_iter': 100}. Best is trial 2 with value: 0.9928571428571429.\n",
      "[I 2025-05-30 04:35:00,165] Trial 89 finished with value: 0.9928571428571429 and parameters: {'hidden_layer_sizes': (50, 50), 'activation': 'relu', 'solver': 'lbfgs', 'alpha': 0.01, 'learning_rate': 'constant', 'max_iter': 500}. Best is trial 2 with value: 0.9928571428571429.\n",
      "[I 2025-05-30 04:35:00,227] Trial 90 finished with value: 0.9928571428571429 and parameters: {'hidden_layer_sizes': (100, 100), 'activation': 'tanh', 'solver': 'lbfgs', 'alpha': 0.0001, 'learning_rate': 'adaptive', 'max_iter': 1000}. Best is trial 2 with value: 0.9928571428571429.\n",
      "[I 2025-05-30 04:35:00,275] Trial 91 finished with value: 0.9928571428571429 and parameters: {'hidden_layer_sizes': (100,), 'activation': 'logistic', 'solver': 'lbfgs', 'alpha': 0.0001, 'learning_rate': 'adaptive', 'max_iter': 200}. Best is trial 2 with value: 0.9928571428571429.\n",
      "[I 2025-05-30 04:35:00,336] Trial 92 finished with value: 0.9928571428571429 and parameters: {'hidden_layer_sizes': (100,), 'activation': 'logistic', 'solver': 'lbfgs', 'alpha': 0.0001, 'learning_rate': 'adaptive', 'max_iter': 200}. Best is trial 2 with value: 0.9928571428571429.\n",
      "[I 2025-05-30 04:35:00,398] Trial 93 finished with value: 0.9928571428571429 and parameters: {'hidden_layer_sizes': (100,), 'activation': 'logistic', 'solver': 'lbfgs', 'alpha': 0.0001, 'learning_rate': 'adaptive', 'max_iter': 200}. Best is trial 2 with value: 0.9928571428571429.\n",
      "[I 2025-05-30 04:35:00,461] Trial 94 finished with value: 0.9928571428571429 and parameters: {'hidden_layer_sizes': (100,), 'activation': 'logistic', 'solver': 'lbfgs', 'alpha': 0.0001, 'learning_rate': 'adaptive', 'max_iter': 200}. Best is trial 2 with value: 0.9928571428571429.\n",
      "[I 2025-05-30 04:35:00,521] Trial 95 finished with value: 0.20285714285714285 and parameters: {'hidden_layer_sizes': (50,), 'activation': 'relu', 'solver': 'sgd', 'alpha': 0.001, 'learning_rate': 'invscaling', 'max_iter': 500}. Best is trial 2 with value: 0.9928571428571429.\n",
      "[I 2025-05-30 04:35:00,643] Trial 96 finished with value: 0.9928571428571429 and parameters: {'hidden_layer_sizes': (50, 50), 'activation': 'logistic', 'solver': 'lbfgs', 'alpha': 0.1, 'learning_rate': 'adaptive', 'max_iter': 200}. Best is trial 2 with value: 0.9928571428571429.\n",
      "[I 2025-05-30 04:35:00,674] Trial 97 finished with value: 0.9928571428571429 and parameters: {'hidden_layer_sizes': (100,), 'activation': 'relu', 'solver': 'lbfgs', 'alpha': 0.0001, 'learning_rate': 'constant', 'max_iter': 1000}. Best is trial 2 with value: 0.9928571428571429.\n",
      "[I 2025-05-30 04:35:00,784] Trial 98 finished with value: 0.36380952380952375 and parameters: {'hidden_layer_sizes': (100, 100), 'activation': 'tanh', 'solver': 'sgd', 'alpha': 0.01, 'learning_rate': 'invscaling', 'max_iter': 100}. Best is trial 2 with value: 0.9928571428571429.\n",
      "[I 2025-05-30 04:35:00,814] Trial 99 finished with value: 0.9857142857142858 and parameters: {'hidden_layer_sizes': (50, 50), 'activation': 'relu', 'solver': 'lbfgs', 'alpha': 0.0001, 'learning_rate': 'adaptive', 'max_iter': 1000}. Best is trial 2 with value: 0.9928571428571429.\n"
     ]
    },
    {
     "name": "stdout",
     "output_type": "stream",
     "text": [
      "Optuna:\n",
      "Best score found:  0.9928571428571429\n",
      "Best parameters found:  {'hidden_layer_sizes': (100,), 'activation': 'relu', 'solver': 'lbfgs', 'alpha': 0.01, 'learning_rate': 'invscaling', 'max_iter': 200}\n"
     ]
    }
   ],
   "source": [
    "def objective(trial):\n",
    "    params = {\n",
    "        'hidden_layer_sizes': trial.suggest_categorical('hidden_layer_sizes', [(50,), (100,), (50, 50), (100, 100)]),\n",
    "        'activation': trial.suggest_categorical('activation', ['identity', 'logistic', 'tanh', 'relu']),\n",
    "        'solver': trial.suggest_categorical('solver', ['lbfgs', 'sgd', 'adam']),\n",
    "        'alpha': trial.suggest_categorical('alpha', [0.0001, 0.001, 0.01, 0.1]),\n",
    "        'learning_rate': trial.suggest_categorical('learning_rate', ['constant', 'invscaling', 'adaptive']),\n",
    "        'max_iter': trial.suggest_categorical('max_iter', [100, 200, 500, 1000])\n",
    "    }\n",
    "    \n",
    "    mlp = MLPClassifier(**params)\n",
    "    score = cross_val_score(mlp, class_X_train, class_y_train, cv=10, n_jobs=-1).mean()\n",
    "    return score\n",
    "\n",
    "study = optuna.create_study(direction='maximize')\n",
    "study.optimize(objective, n_trials=100)\n",
    "print(\"Optuna:\")\n",
    "print(\"Best score found: \", study.best_value)\n",
    "print(\"Best parameters found: \", study.best_params)\n",
    "# class_mlp = MLPClassifier(**study.best_params)\n",
    "# class_mlp.fit(class_X_train, class_y_train)"
   ]
  },
  {
   "cell_type": "code",
   "execution_count": 80,
   "id": "6f159c13",
   "metadata": {},
   "outputs": [],
   "source": [
    "# def objective(trial):\n",
    "#     params = {\n",
    "#         'hidden_layer_sizes': trial.suggest_categorical('hidden_layer_sizes', [(50,), (100,), (50, 50), (100, 100)]),\n",
    "#         'activation': trial.suggest_categorical('activation', ['identity', 'logistic', 'tanh', 'relu']),\n",
    "#         'solver': trial.suggest_categorical('solver', ['lbfgs', 'sgd', 'adam']),\n",
    "#         'alpha': trial.suggest_categorical('alpha', [0.0001, 0.001, 0.01, 0.1]),\n",
    "#         'learning_rate': trial.suggest_categorical('learning_rate', ['constant', 'invscaling', 'adaptive']),\n",
    "#         'max_iter': trial.suggest_categorical('max_iter', [200, 500, 1000]),\n",
    "#         'early_stopping': trial.suggest_categorical('early_stopping', [True, False]),\n",
    "#         'n_iter_no_change': 10\n",
    "#     }\n",
    "    \n",
    "#     mlp = MLPRegressor(**params)\n",
    "#     score = cross_val_score(mlp, reg_X_train, reg_y_train, cv=10, n_jobs=-1).mean()\n",
    "#     return score\n",
    "\n",
    "# study = optuna.create_study(direction='maximize')\n",
    "# study.optimize(objective, n_trials=100)\n",
    "# print(\"Optuna:\")\n",
    "# print(\"Best score found: \", study.best_value)\n",
    "# print(\"Best parameters found: \", study.best_params)\n",
    "# # reg_mlp = MLPRegressor(**study.best_params)\n",
    "# # reg_mlp.fit(reg_X_train, reg_y_train)"
   ]
  },
  {
   "cell_type": "code",
   "execution_count": 81,
   "id": "0c705aba",
   "metadata": {},
   "outputs": [
    {
     "name": "stdout",
     "output_type": "stream",
     "text": [
      "100%|██████████| 100/100 [00:16<00:00,  5.91trial/s, best loss: -0.9928571428571429]\n",
      "Hyperopt:\n",
      "Best score found:  0.9928571428571429\n",
      "Best parameters found:  {'activation': np.int64(0), 'alpha': np.float64(0.0957287355011419), 'early_stopping': np.int64(1), 'hidden_layer_sizes': np.int64(3), 'learning_rate': np.int64(2), 'max_iter': np.int64(1), 'solver': np.int64(2)}\n"
     ]
    }
   ],
   "source": [
    "def objective(params):\n",
    "    mlp = MLPClassifier(**params)\n",
    "    score = cross_val_score(mlp, class_X_train, class_y_train, cv=10, n_jobs=-1).mean()\n",
    "    return {'loss': -score, 'status': STATUS_OK}\n",
    "\n",
    "trials = Trials()\n",
    "\n",
    "best_params = fmin(objective, space, algo=tpe.suggest, max_evals=100, trials=trials)\n",
    "print(\"Hyperopt:\")\n",
    "print(\"Best score found: \", -trials.best_trial['result']['loss'])\n",
    "print(\"Best parameters found: \", best_params)\n",
    "# best_mlp = MLPClassifier(**best_params)\n",
    "# best_mlp.fit(class_X_train, class_y_train)"
   ]
  },
  {
   "cell_type": "code",
   "execution_count": 82,
   "id": "15537230",
   "metadata": {},
   "outputs": [],
   "source": [
    "# def objective(params):\n",
    "#     mlp = MLPRegressor(**params)\n",
    "#     score = cross_val_score(mlp, reg_X_train, reg_y_train, cv=10, n_jobs=-1).mean()\n",
    "#     return {'loss': -score, 'status': STATUS_OK}\n",
    "\n",
    "# trials = Trials()\n",
    "\n",
    "# best_params = fmin(objective, reg_space, algo=tpe.suggest, max_evals=100, trials=trials)\n",
    "# print(\"Hyperopt:\")\n",
    "# print(\"Best score found: \", -trials.best_trial['result']['loss'])\n",
    "# print(\"Best parameters found: \", best_params)\n",
    "# # reg_mlp = MLPRegressor(**best_params)\n",
    "# # reg_mlp.fit(reg_X_train, reg_y_train)"
   ]
  },
  {
   "cell_type": "code",
   "execution_count": 83,
   "id": "8183fe92",
   "metadata": {},
   "outputs": [
    {
     "name": "stderr",
     "output_type": "stream",
     "text": [
      "[I 2025-05-30 04:35:17,815] A new study created in memory with name: no-name-d2fc9dac-62a5-42ac-b3f5-85933d6645ea\n",
      "[I 2025-05-30 04:35:24,519] Trial 0 finished with value: 0.9519047558307647 and parameters: {'optimizer': 'rmsprop', 'learning_rate': 0.000227207820481113}. Best is trial 0 with value: 0.9519047558307647.\n",
      "[I 2025-05-30 04:35:31,048] Trial 1 finished with value: 0.9090476095676422 and parameters: {'optimizer': 'sgd', 'learning_rate': 0.0009745871849624824}. Best is trial 0 with value: 0.9519047558307647.\n",
      "[I 2025-05-30 04:35:37,540] Trial 2 finished with value: 0.88857142329216 and parameters: {'optimizer': 'sgd', 'learning_rate': 0.0011899244308276912}. Best is trial 0 with value: 0.9519047558307647.\n",
      "[I 2025-05-30 04:35:44,029] Trial 3 finished with value: 0.5638095319271088 and parameters: {'optimizer': 'sgd', 'learning_rate': 0.0003986444509314537}. Best is trial 0 with value: 0.9519047558307647.\n",
      "[I 2025-05-30 04:35:50,761] Trial 4 finished with value: 0.992857140302658 and parameters: {'optimizer': 'adam', 'learning_rate': 0.0015326017758714155}. Best is trial 4 with value: 0.992857140302658.\n",
      "[I 2025-05-30 04:35:57,232] Trial 5 finished with value: 0.903333330154419 and parameters: {'optimizer': 'sgd', 'learning_rate': 0.002230765748841139}. Best is trial 4 with value: 0.992857140302658.\n",
      "[I 2025-05-30 04:36:03,958] Trial 6 finished with value: 0.9861904740333557 and parameters: {'optimizer': 'adam', 'learning_rate': 0.001071510217365185}. Best is trial 4 with value: 0.992857140302658.\n",
      "[I 2025-05-30 04:36:10,470] Trial 7 finished with value: 0.8952380895614624 and parameters: {'optimizer': 'sgd', 'learning_rate': 0.0009704872044327382}. Best is trial 4 with value: 0.992857140302658.\n",
      "[I 2025-05-30 04:36:17,214] Trial 8 finished with value: 0.9590476155281067 and parameters: {'optimizer': 'adam', 'learning_rate': 0.0004559076362884741}. Best is trial 4 with value: 0.992857140302658.\n",
      "[I 2025-05-30 04:36:23,804] Trial 9 finished with value: 0.9857142806053162 and parameters: {'optimizer': 'rmsprop', 'learning_rate': 0.009553303699611174}. Best is trial 4 with value: 0.992857140302658.\n"
     ]
    },
    {
     "name": "stdout",
     "output_type": "stream",
     "text": [
      "\u001b[1m2/2\u001b[0m \u001b[32m━━━━━━━━━━━━━━━━━━━━\u001b[0m\u001b[37m\u001b[0m \u001b[1m0s\u001b[0m 14ms/step - accuracy: 0.9815 - loss: 0.0966\n",
      "Лучшие гиперпараметры: {'optimizer': 'adam', 'learning_rate': 0.0015326017758714155}\n",
      "Тестовая точность: 0.9722\n"
     ]
    }
   ],
   "source": [
    "def objective(trial):\n",
    "    optimizer_name = trial.suggest_categorical('optimizer', ['adam', 'sgd', 'rmsprop'])\n",
    "    lr = trial.suggest_float('learning_rate', 1e-4, 1e-2, log=True)\n",
    "    \n",
    "    model = keras.Sequential([\n",
    "        keras.layers.Dense(64, activation='relu', input_shape=(class_X_train.shape[1],)),\n",
    "        keras.layers.Dense(32, activation='relu'),\n",
    "        keras.layers.Dense(2, activation='softmax')\n",
    "    ])\n",
    "    \n",
    "    optimizers = {\n",
    "        'adam': keras.optimizers.Adam(learning_rate=lr),\n",
    "        'sgd': keras.optimizers.SGD(learning_rate=lr),\n",
    "        'rmsprop': keras.optimizers.RMSprop(learning_rate=lr)\n",
    "    }\n",
    "    \n",
    "    model.compile(\n",
    "        optimizer=optimizers[optimizer_name],\n",
    "        loss='categorical_crossentropy',\n",
    "        metrics=['accuracy']\n",
    "    )\n",
    "    \n",
    "    kfold = KFold(n_splits=10, shuffle=True, random_state=42)\n",
    "    val_accuracies = []\n",
    "    \n",
    "    for train_idx, val_idx in kfold.split(class_X_train):\n",
    "        X_train_fold, X_val_fold = class_X_train[train_idx], class_X_train[val_idx]\n",
    "        y_train_fold, y_val_fold = class_y_train[train_idx], class_y_train[val_idx]\n",
    "        \n",
    "        history = model.fit(\n",
    "            X_train_fold, y_train_fold,\n",
    "            validation_data=(X_val_fold, y_val_fold),\n",
    "            epochs=10,\n",
    "            verbose=0\n",
    "        )\n",
    "        val_accuracies.append(history.history['val_accuracy'][-1])\n",
    "        \n",
    "        model.set_weights(model.get_weights())\n",
    "        \n",
    "    return np.mean(val_accuracies)\n",
    "\n",
    "study = optuna.create_study(direction='maximize')\n",
    "study.optimize(objective, n_trials=10)\n",
    "\n",
    "best_params = study.best_params\n",
    "class_optuna_model = keras.Sequential([\n",
    "    keras.layers.Dense(64, activation='relu', input_shape=(class_X_train.shape[1],)),\n",
    "    keras.layers.Dense(32, activation='relu'),\n",
    "    keras.layers.Dense(2, activation='softmax')\n",
    "])\n",
    "\n",
    "optimizers = {\n",
    "    'adam': keras.optimizers.Adam(learning_rate=best_params['learning_rate']),\n",
    "    'sgd': keras.optimizers.SGD(learning_rate=best_params['learning_rate']),\n",
    "    'rmsprop': keras.optimizers.RMSprop(learning_rate=best_params['learning_rate'])\n",
    "}\n",
    "\n",
    "class_optuna_model.compile(\n",
    "    optimizer=optimizers[best_params['optimizer']],\n",
    "    loss='categorical_crossentropy',\n",
    "    metrics=['accuracy']\n",
    ")\n",
    "\n",
    "class_optuna_model.fit(\n",
    "    class_X_train, class_y_train,\n",
    "    epochs=10,\n",
    "    verbose=0\n",
    ")\n",
    "\n",
    "loss, accuracy = class_optuna_model.evaluate(class_X_test, class_y_test)\n",
    "print(f\"Лучшие гиперпараметры: {best_params}\")\n",
    "print(f\"Тестовая точность: {accuracy:.4f}\")\n",
    "class_nn = class_optuna_model"
   ]
  },
  {
   "cell_type": "code",
   "execution_count": 84,
   "id": "f336e5ab",
   "metadata": {},
   "outputs": [
    {
     "name": "stdout",
     "output_type": "stream",
     "text": [
      "Reloading Tuner from keras_tuner\\class_model\\tuner0.json\n",
      "Лучшие гиперпараметры:\n",
      "Оптимизатор: rmsprop\n",
      "Learning Rate: 0.01\n",
      "\u001b[1m2/2\u001b[0m \u001b[32m━━━━━━━━━━━━━━━━━━━━\u001b[0m\u001b[37m\u001b[0m \u001b[1m0s\u001b[0m 15ms/step - accuracy: 1.0000 - loss: 0.0133 \n",
      "\n",
      "Тестовая точность: 1.0000\n"
     ]
    }
   ],
   "source": [
    "def build_class_model(hp):\n",
    "    model = keras.Sequential([\n",
    "        keras.layers.Dense(64, activation='relu', input_shape=(class_X_train.shape[1],)),\n",
    "        keras.layers.Dense(32, activation='relu'),\n",
    "        keras.layers.Dense(2, activation='softmax')\n",
    "    ])\n",
    "    \n",
    "    optimizer_name = hp.Choice('optimizer', ['adam', 'sgd', 'rmsprop'])\n",
    "    lr = hp.Choice('learning_rate', [1e-2, 1e-3, 1e-4])\n",
    "    \n",
    "    optimizers = {\n",
    "        'adam': keras.optimizers.Adam(learning_rate=lr),\n",
    "        'sgd': keras.optimizers.SGD(learning_rate=lr),\n",
    "        'rmsprop': keras.optimizers.RMSprop(learning_rate=lr)\n",
    "    }\n",
    "    \n",
    "    model.compile(\n",
    "        optimizer=optimizers[optimizer_name],\n",
    "        loss='categorical_crossentropy',\n",
    "        metrics=['accuracy']\n",
    "    )\n",
    "    return model\n",
    "\n",
    "tuner = kt.RandomSearch(\n",
    "    build_class_model,\n",
    "    objective='val_accuracy',\n",
    "    max_trials=10,\n",
    "    directory='keras_tuner',\n",
    "    project_name='class_model'\n",
    ")\n",
    "\n",
    "tuner.search(\n",
    "    class_X_train, class_y_train,\n",
    "    epochs=10,\n",
    "    validation_data=(class_X_test, class_y_test),\n",
    "    verbose=1\n",
    ")\n",
    "\n",
    "class_kt_model = tuner.get_best_models(num_models=1)[0]\n",
    "\n",
    "best_hps = tuner.get_best_hyperparameters()[0]\n",
    "print(f\"Лучшие гиперпараметры:\")\n",
    "print(f\"Оптимизатор: {best_hps.get('optimizer')}\")\n",
    "print(f\"Learning Rate: {best_hps.get('learning_rate')}\")\n",
    "\n",
    "loss, accuracy = class_kt_model.evaluate(class_X_test, class_y_test)\n",
    "print(f\"\\nТестовая точность: {accuracy:.4f}\")"
   ]
  },
  {
   "cell_type": "code",
   "execution_count": 85,
   "id": "7a58f627",
   "metadata": {},
   "outputs": [
    {
     "name": "stderr",
     "output_type": "stream",
     "text": [
      "[I 2025-05-30 04:36:25,772] A new study created in memory with name: no-name-bae680bd-8e7e-4b02-9fba-21f03550a22e\n",
      "[I 2025-05-30 04:36:32,460] Trial 0 finished with value: 2710461.275 and parameters: {'optimizer': 'rmsprop', 'learning_rate': 0.00032048045387353256}. Best is trial 0 with value: 2710461.275.\n",
      "[I 2025-05-30 04:36:39,257] Trial 1 finished with value: 2711135.921875 and parameters: {'optimizer': 'adam', 'learning_rate': 0.00014968070051578044}. Best is trial 0 with value: 2710461.275.\n",
      "[I 2025-05-30 04:36:45,784] Trial 2 finished with value: 1.9382491828304479e+18 and parameters: {'optimizer': 'sgd', 'learning_rate': 0.00036145335639211376}. Best is trial 0 with value: 2710461.275.\n",
      "[W 2025-05-30 04:36:52,337] Trial 3 failed with parameters: {'optimizer': 'sgd', 'learning_rate': 0.002612006772072013} because of the following error: The value nan is not acceptable.\n",
      "[W 2025-05-30 04:36:52,337] Trial 3 failed with value np.float64(nan).\n",
      "[W 2025-05-30 04:36:58,882] Trial 4 failed with parameters: {'optimizer': 'sgd', 'learning_rate': 0.006461181842748594} because of the following error: The value nan is not acceptable.\n",
      "[W 2025-05-30 04:36:58,882] Trial 4 failed with value np.float64(nan).\n",
      "[I 2025-05-30 04:37:05,467] Trial 5 finished with value: 641131358617.6 and parameters: {'optimizer': 'sgd', 'learning_rate': 0.003307930515905495}. Best is trial 0 with value: 2710461.275.\n",
      "[I 2025-05-30 04:37:12,254] Trial 6 finished with value: 1929176.8619140624 and parameters: {'optimizer': 'adam', 'learning_rate': 0.001654989019122419}. Best is trial 6 with value: 1929176.8619140624.\n",
      "[I 2025-05-30 04:37:19,015] Trial 7 finished with value: 1409459.35546875 and parameters: {'optimizer': 'adam', 'learning_rate': 0.0024263858202508842}. Best is trial 7 with value: 1409459.35546875.\n",
      "[W 2025-05-30 04:37:25,518] Trial 8 failed with parameters: {'optimizer': 'sgd', 'learning_rate': 0.0009074993130533467} because of the following error: The value nan is not acceptable.\n",
      "[W 2025-05-30 04:37:25,519] Trial 8 failed with value np.float64(nan).\n",
      "[I 2025-05-30 04:37:32,017] Trial 9 finished with value: 13924157.8 and parameters: {'optimizer': 'sgd', 'learning_rate': 0.006613206227187161}. Best is trial 7 with value: 1409459.35546875.\n"
     ]
    },
    {
     "name": "stdout",
     "output_type": "stream",
     "text": [
      "\u001b[1m1/1\u001b[0m \u001b[32m━━━━━━━━━━━━━━━━━━━━\u001b[0m\u001b[37m\u001b[0m \u001b[1m0s\u001b[0m 86ms/step - loss: 2772155.2500 - mae: 1235.0957\n",
      "Лучшие гиперпараметры: {'optimizer': 'adam', 'learning_rate': 0.0024263858202508842}\n",
      "Тестовая MSE: 2772155.2500, MAE: 1235.0957\n"
     ]
    }
   ],
   "source": [
    "def objective(trial):\n",
    "    optimizer_name = trial.suggest_categorical('optimizer', ['adam', 'sgd', 'rmsprop'])\n",
    "    lr = trial.suggest_float('learning_rate', 1e-4, 1e-2, log=True)\n",
    "    \n",
    "    model = keras.Sequential([\n",
    "        keras.layers.Dense(64, activation='relu', input_shape=(reg_X_train.shape[1],)),\n",
    "        keras.layers.Dense(32, activation='relu'),\n",
    "        keras.layers.Dense(1, activation='linear')\n",
    "    ])\n",
    "    \n",
    "    optimizers = {\n",
    "        'adam': keras.optimizers.Adam(learning_rate=lr),\n",
    "        'sgd': keras.optimizers.SGD(learning_rate=lr),\n",
    "        'rmsprop': keras.optimizers.RMSprop(learning_rate=lr)\n",
    "    }\n",
    "    \n",
    "    model.compile(\n",
    "        optimizer=optimizers[optimizer_name],\n",
    "        loss='mse',\n",
    "        metrics=['mae']\n",
    "    )\n",
    "    \n",
    "    kfold = KFold(n_splits=10, shuffle=True, random_state=42)\n",
    "    val_losses = []\n",
    "    \n",
    "    for train_idx, val_idx in kfold.split(reg_X_train):\n",
    "        X_train_fold, X_val_fold = reg_X_train[train_idx], reg_X_train[val_idx]\n",
    "        y_train_fold, y_val_fold = reg_y_train[train_idx], reg_y_train[val_idx]\n",
    "        \n",
    "        history = model.fit(\n",
    "            X_train_fold, y_train_fold,\n",
    "            validation_data=(X_val_fold, y_val_fold),\n",
    "            epochs=10,\n",
    "            verbose=0\n",
    "        )\n",
    "        val_losses.append(history.history['val_loss'][-1])\n",
    "        \n",
    "    return np.mean(val_losses)\n",
    "\n",
    "study = optuna.create_study(direction='minimize')\n",
    "study.optimize(objective, n_trials=10)\n",
    "\n",
    "best_params = study.best_params\n",
    "reg_optuna_model = keras.Sequential([\n",
    "    keras.layers.Dense(64, activation='relu', input_shape=(reg_X_train.shape[1],)),\n",
    "    keras.layers.Dense(32, activation='relu'),\n",
    "    keras.layers.Dense(1, activation='linear')\n",
    "])\n",
    "\n",
    "optimizers = {\n",
    "    'adam': keras.optimizers.Adam(learning_rate=best_params['learning_rate']),\n",
    "    'sgd': keras.optimizers.SGD(learning_rate=best_params['learning_rate']),\n",
    "    'rmsprop': keras.optimizers.RMSprop(learning_rate=best_params['learning_rate'])\n",
    "}\n",
    "\n",
    "reg_optuna_model.compile(\n",
    "    optimizer=optimizers[best_params['optimizer']],\n",
    "    loss='mse',\n",
    "    metrics=['mae']\n",
    ")\n",
    "\n",
    "reg_optuna_model.fit(\n",
    "    reg_X_train, reg_y_train,\n",
    "    epochs=10,\n",
    "    verbose=0\n",
    ")\n",
    "\n",
    "loss, mae = reg_optuna_model.evaluate(reg_X_test, reg_y_test)\n",
    "print(f\"Лучшие гиперпараметры: {best_params}\")\n",
    "print(f\"Тестовая MSE: {loss:.4f}, MAE: {mae:.4f}\")"
   ]
  },
  {
   "cell_type": "code",
   "execution_count": null,
   "id": "cccbf17b",
   "metadata": {},
   "outputs": [
    {
     "name": "stdout",
     "output_type": "stream",
     "text": [
      "Reloading Tuner from keras_tuner\\reg_model\\tuner0.json\n",
      "\n",
      "Лучшие гиперпараметры:\n",
      "Оптимизатор: rmsprop\n",
      "Learning Rate: 0.01\n",
      "\u001b[1m1/1\u001b[0m \u001b[32m━━━━━━━━━━━━━━━━━━━━\u001b[0m\u001b[37m\u001b[0m \u001b[1m0s\u001b[0m 141ms/step - loss: 908303.8125 - mae: 755.4518\n",
      "\n",
      "Тестовая MSE: 908303.8125, MAE: 755.4518\n"
     ]
    }
   ],
   "source": [
    "def build_reg_model(hp):\n",
    "    model = keras.Sequential([\n",
    "        keras.layers.Dense(64, activation='relu', input_shape=(reg_X_train.shape[1],)),\n",
    "        keras.layers.Dense(32, activation='relu'),\n",
    "        keras.layers.Dense(1, activation='linear')\n",
    "    ])\n",
    "    \n",
    "    optimizer_name = hp.Choice('optimizer', ['adam', 'sgd', 'rmsprop'])\n",
    "    lr = hp.Choice('learning_rate', [1e-2, 1e-3, 1e-4])\n",
    "    \n",
    "    optimizers = {\n",
    "        'adam': keras.optimizers.Adam(learning_rate=lr),\n",
    "        'sgd': keras.optimizers.SGD(learning_rate=lr),\n",
    "        'rmsprop': keras.optimizers.RMSprop(learning_rate=lr)\n",
    "    }\n",
    "    \n",
    "    model.compile(\n",
    "        optimizer=optimizers[optimizer_name],\n",
    "        loss='mse',\n",
    "        metrics=['mae']\n",
    "    )\n",
    "    return model\n",
    "\n",
    "tuner = kt.RandomSearch(\n",
    "    build_reg_model,\n",
    "    objective='val_loss',\n",
    "    max_trials=10,\n",
    "    directory='keras_tuner',\n",
    "    project_name='reg_model'\n",
    ")\n",
    "\n",
    "tuner.search(\n",
    "    reg_X_train, reg_y_train,\n",
    "    epochs=10,\n",
    "    validation_data=(reg_X_test, reg_y_test),\n",
    "    verbose=1\n",
    ")\n",
    "\n",
    "reg_kt_model = tuner.get_best_models(num_models=1)[0]\n",
    "\n",
    "best_hps = tuner.get_best_hyperparameters()[0]\n",
    "print(f\"Лучшие гиперпараметры:\")\n",
    "print(f\"Оптимизатор: {best_hps.get('optimizer')}\")\n",
    "print(f\"Learning Rate: {best_hps.get('learning_rate')}\")\n",
    "\n",
    "test_loss, test_mae = reg_kt_model.evaluate(reg_X_test, reg_y_test)\n",
    "print(f\"\\nТестовая MSE: {test_loss:.4f}, MAE: {test_mae:.4f}\")\n",
    "reg_nn = reg_kt_model"
   ]
  },
  {
   "cell_type": "code",
   "execution_count": null,
   "id": "a69d6dd5",
   "metadata": {},
   "outputs": [
    {
     "name": "stdout",
     "output_type": "stream",
     "text": [
      "MLPClassifier(activation='tanh', alpha=0.1, hidden_layer_sizes=(100, 100),\n",
      "              learning_rate='invscaling')\n"
     ]
    }
   ],
   "source": [
    "class_mlp"
   ]
  },
  {
   "cell_type": "code",
   "execution_count": null,
   "id": "39456e8c",
   "metadata": {},
   "outputs": [
    {
     "data": {
      "text/plain": [
       "<matplotlib.legend.Legend at 0x1be583523e0>"
      ]
     },
     "execution_count": 92,
     "metadata": {},
     "output_type": "execute_result"
    },
    {
     "data": {
      "image/png": "[encoded data removed]",
      "text/plain": [
       "<Figure size 1500x1000 with 1 Axes>"
      ]
     },
     "metadata": {},
     "output_type": "display_data"
    }
   ],
   "source": [
    "train_acc = accuracy_score(class_y_train, class_mlp.predict(class_X_train))\n",
    "test_acc = accuracy_score(class_y_test, class_mlp.predict(class_X_test))\n",
    "plt.figure(figsize=(15, 10))\n",
    "plt.plot(class_mlp.loss_curve_, label='Ошибка обучения')\n",
    "plt.title('MLPClassifier: Функция потерь')\n",
    "plt.xlabel('Эпохи')\n",
    "plt.ylabel('Потери')\n",
    "plt.legend()"
   ]
  },
  {
   "cell_type": "code",
   "execution_count": 88,
   "id": "2e620f85",
   "metadata": {},
   "outputs": [
    {
     "data": {
      "text/html": [
       "<style>#sk-container-id-2 {\n",
       "  /* Definition of color scheme common for light and dark mode */\n",
       "  --sklearn-color-text: #000;\n",
       "  --sklearn-color-text-muted: #666;\n",
       "  --sklearn-color-line: gray;\n",
       "  /* Definition of color scheme for unfitted estimators */\n",
       "  --sklearn-color-unfitted-level-0: #fff5e6;\n",
       "  --sklearn-color-unfitted-level-1: #f6e4d2;\n",
       "  --sklearn-color-unfitted-level-2: #ffe0b3;\n",
       "  --sklearn-color-unfitted-level-3: chocolate;\n",
       "  /* Definition of color scheme for fitted estimators */\n",
       "  --sklearn-color-fitted-level-0: #f0f8ff;\n",
       "  --sklearn-color-fitted-level-1: #d4ebff;\n",
       "  --sklearn-color-fitted-level-2: #b3dbfd;\n",
       "  --sklearn-color-fitted-level-3: cornflowerblue;\n",
       "\n",
       "  /* Specific color for light theme */\n",
       "  --sklearn-color-text-on-default-background: var(--sg-text-color, var(--theme-code-foreground, var(--jp-content-font-color1, black)));\n",
       "  --sklearn-color-background: var(--sg-background-color, var(--theme-background, var(--jp-layout-color0, white)));\n",
       "  --sklearn-color-border-box: var(--sg-text-color, var(--theme-code-foreground, var(--jp-content-font-color1, black)));\n",
       "  --sklearn-color-icon: #696969;\n",
       "\n",
       "  @media (prefers-color-scheme: dark) {\n",
       "    /* Redefinition of color scheme for dark theme */\n",
       "    --sklearn-color-text-on-default-background: var(--sg-text-color, var(--theme-code-foreground, var(--jp-content-font-color1, white)));\n",
       "    --sklearn-color-background: var(--sg-background-color, var(--theme-background, var(--jp-layout-color0, #111)));\n",
       "    --sklearn-color-border-box: var(--sg-text-color, var(--theme-code-foreground, var(--jp-content-font-color1, white)));\n",
       "    --sklearn-color-icon: #878787;\n",
       "  }\n",
       "}\n",
       "\n",
       "#sk-container-id-2 {\n",
       "  color: var(--sklearn-color-text);\n",
       "}\n",
       "\n",
       "#sk-container-id-2 pre {\n",
       "  padding: 0;\n",
       "}\n",
       "\n",
       "#sk-container-id-2 input.sk-hidden--visually {\n",
       "  border: 0;\n",
       "  clip: rect(1px 1px 1px 1px);\n",
       "  clip: rect(1px, 1px, 1px, 1px);\n",
       "  height: 1px;\n",
       "  margin: -1px;\n",
       "  overflow: hidden;\n",
       "  padding: 0;\n",
       "  position: absolute;\n",
       "  width: 1px;\n",
       "}\n",
       "\n",
       "#sk-container-id-2 div.sk-dashed-wrapped {\n",
       "  border: 1px dashed var(--sklearn-color-line);\n",
       "  margin: 0 0.4em 0.5em 0.4em;\n",
       "  box-sizing: border-box;\n",
       "  padding-bottom: 0.4em;\n",
       "  background-color: var(--sklearn-color-background);\n",
       "}\n",
       "\n",
       "#sk-container-id-2 div.sk-container {\n",
       "  /* jupyter's `normalize.less` sets `[hidden] { display: none; }`\n",
       "     but bootstrap.min.css set `[hidden] { display: none !important; }`\n",
       "     so we also need the `!important` here to be able to override the\n",
       "     default hidden behavior on the sphinx rendered scikit-learn.org.\n",
       "     See: https://github.com/scikit-learn/scikit-learn/issues/21755 */\n",
       "  display: inline-block !important;\n",
       "  position: relative;\n",
       "}\n",
       "\n",
       "#sk-container-id-2 div.sk-text-repr-fallback {\n",
       "  display: none;\n",
       "}\n",
       "\n",
       "div.sk-parallel-item,\n",
       "div.sk-serial,\n",
       "div.sk-item {\n",
       "  /* draw centered vertical line to link estimators */\n",
       "  background-image: linear-gradient(var(--sklearn-color-text-on-default-background), var(--sklearn-color-text-on-default-background));\n",
       "  background-size: 2px 100%;\n",
       "  background-repeat: no-repeat;\n",
       "  background-position: center center;\n",
       "}\n",
       "\n",
       "/* Parallel-specific style estimator block */\n",
       "\n",
       "#sk-container-id-2 div.sk-parallel-item::after {\n",
       "  content: \"\";\n",
       "  width: 100%;\n",
       "  border-bottom: 2px solid var(--sklearn-color-text-on-default-background);\n",
       "  flex-grow: 1;\n",
       "}\n",
       "\n",
       "#sk-container-id-2 div.sk-parallel {\n",
       "  display: flex;\n",
       "  align-items: stretch;\n",
       "  justify-content: center;\n",
       "  background-color: var(--sklearn-color-background);\n",
       "  position: relative;\n",
       "}\n",
       "\n",
       "#sk-container-id-2 div.sk-parallel-item {\n",
       "  display: flex;\n",
       "  flex-direction: column;\n",
       "}\n",
       "\n",
       "#sk-container-id-2 div.sk-parallel-item:first-child::after {\n",
       "  align-self: flex-end;\n",
       "  width: 50%;\n",
       "}\n",
       "\n",
       "#sk-container-id-2 div.sk-parallel-item:last-child::after {\n",
       "  align-self: flex-start;\n",
       "  width: 50%;\n",
       "}\n",
       "\n",
       "#sk-container-id-2 div.sk-parallel-item:only-child::after {\n",
       "  width: 0;\n",
       "}\n",
       "\n",
       "/* Serial-specific style estimator block */\n",
       "\n",
       "#sk-container-id-2 div.sk-serial {\n",
       "  display: flex;\n",
       "  flex-direction: column;\n",
       "  align-items: center;\n",
       "  background-color: var(--sklearn-color-background);\n",
       "  padding-right: 1em;\n",
       "  padding-left: 1em;\n",
       "}\n",
       "\n",
       "\n",
       "/* Toggleable style: style used for estimator/Pipeline/ColumnTransformer box that is\n",
       "clickable and can be expanded/collapsed.\n",
       "- Pipeline and ColumnTransformer use this feature and define the default style\n",
       "- Estimators will overwrite some part of the style using the `sk-estimator` class\n",
       "*/\n",
       "\n",
       "/* Pipeline and ColumnTransformer style (default) */\n",
       "\n",
       "#sk-container-id-2 div.sk-toggleable {\n",
       "  /* Default theme specific background. It is overwritten whether we have a\n",
       "  specific estimator or a Pipeline/ColumnTransformer */\n",
       "  background-color: var(--sklearn-color-background);\n",
       "}\n",
       "\n",
       "/* Toggleable label */\n",
       "#sk-container-id-2 label.sk-toggleable__label {\n",
       "  cursor: pointer;\n",
       "  display: flex;\n",
       "  width: 100%;\n",
       "  margin-bottom: 0;\n",
       "  padding: 0.5em;\n",
       "  box-sizing: border-box;\n",
       "  text-align: center;\n",
       "  align-items: start;\n",
       "  justify-content: space-between;\n",
       "  gap: 0.5em;\n",
       "}\n",
       "\n",
       "#sk-container-id-2 label.sk-toggleable__label .caption {\n",
       "  font-size: 0.6rem;\n",
       "  font-weight: lighter;\n",
       "  color: var(--sklearn-color-text-muted);\n",
       "}\n",
       "\n",
       "#sk-container-id-2 label.sk-toggleable__label-arrow:before {\n",
       "  /* Arrow on the left of the label */\n",
       "  content: \"▸\";\n",
       "  float: left;\n",
       "  margin-right: 0.25em;\n",
       "  color: var(--sklearn-color-icon);\n",
       "}\n",
       "\n",
       "#sk-container-id-2 label.sk-toggleable__label-arrow:hover:before {\n",
       "  color: var(--sklearn-color-text);\n",
       "}\n",
       "\n",
       "/* Toggleable content - dropdown */\n",
       "\n",
       "#sk-container-id-2 div.sk-toggleable__content {\n",
       "  max-height: 0;\n",
       "  max-width: 0;\n",
       "  overflow: hidden;\n",
       "  text-align: left;\n",
       "  /* unfitted */\n",
       "  background-color: var(--sklearn-color-unfitted-level-0);\n",
       "}\n",
       "\n",
       "#sk-container-id-2 div.sk-toggleable__content.fitted {\n",
       "  /* fitted */\n",
       "  background-color: var(--sklearn-color-fitted-level-0);\n",
       "}\n",
       "\n",
       "#sk-container-id-2 div.sk-toggleable__content pre {\n",
       "  margin: 0.2em;\n",
       "  border-radius: 0.25em;\n",
       "  color: var(--sklearn-color-text);\n",
       "  /* unfitted */\n",
       "  background-color: var(--sklearn-color-unfitted-level-0);\n",
       "}\n",
       "\n",
       "#sk-container-id-2 div.sk-toggleable__content.fitted pre {\n",
       "  /* unfitted */\n",
       "  background-color: var(--sklearn-color-fitted-level-0);\n",
       "}\n",
       "\n",
       "#sk-container-id-2 input.sk-toggleable__control:checked~div.sk-toggleable__content {\n",
       "  /* Expand drop-down */\n",
       "  max-height: 200px;\n",
       "  max-width: 100%;\n",
       "  overflow: auto;\n",
       "}\n",
       "\n",
       "#sk-container-id-2 input.sk-toggleable__control:checked~label.sk-toggleable__label-arrow:before {\n",
       "  content: \"▾\";\n",
       "}\n",
       "\n",
       "/* Pipeline/ColumnTransformer-specific style */\n",
       "\n",
       "#sk-container-id-2 div.sk-label input.sk-toggleable__control:checked~label.sk-toggleable__label {\n",
       "  color: var(--sklearn-color-text);\n",
       "  background-color: var(--sklearn-color-unfitted-level-2);\n",
       "}\n",
       "\n",
       "#sk-container-id-2 div.sk-label.fitted input.sk-toggleable__control:checked~label.sk-toggleable__label {\n",
       "  background-color: var(--sklearn-color-fitted-level-2);\n",
       "}\n",
       "\n",
       "/* Estimator-specific style */\n",
       "\n",
       "/* Colorize estimator box */\n",
       "#sk-container-id-2 div.sk-estimator input.sk-toggleable__control:checked~label.sk-toggleable__label {\n",
       "  /* unfitted */\n",
       "  background-color: var(--sklearn-color-unfitted-level-2);\n",
       "}\n",
       "\n",
       "#sk-container-id-2 div.sk-estimator.fitted input.sk-toggleable__control:checked~label.sk-toggleable__label {\n",
       "  /* fitted */\n",
       "  background-color: var(--sklearn-color-fitted-level-2);\n",
       "}\n",
       "\n",
       "#sk-container-id-2 div.sk-label label.sk-toggleable__label,\n",
       "#sk-container-id-2 div.sk-label label {\n",
       "  /* The background is the default theme color */\n",
       "  color: var(--sklearn-color-text-on-default-background);\n",
       "}\n",
       "\n",
       "/* On hover, darken the color of the background */\n",
       "#sk-container-id-2 div.sk-label:hover label.sk-toggleable__label {\n",
       "  color: var(--sklearn-color-text);\n",
       "  background-color: var(--sklearn-color-unfitted-level-2);\n",
       "}\n",
       "\n",
       "/* Label box, darken color on hover, fitted */\n",
       "#sk-container-id-2 div.sk-label.fitted:hover label.sk-toggleable__label.fitted {\n",
       "  color: var(--sklearn-color-text);\n",
       "  background-color: var(--sklearn-color-fitted-level-2);\n",
       "}\n",
       "\n",
       "/* Estimator label */\n",
       "\n",
       "#sk-container-id-2 div.sk-label label {\n",
       "  font-family: monospace;\n",
       "  font-weight: bold;\n",
       "  display: inline-block;\n",
       "  line-height: 1.2em;\n",
       "}\n",
       "\n",
       "#sk-container-id-2 div.sk-label-container {\n",
       "  text-align: center;\n",
       "}\n",
       "\n",
       "/* Estimator-specific */\n",
       "#sk-container-id-2 div.sk-estimator {\n",
       "  font-family: monospace;\n",
       "  border: 1px dotted var(--sklearn-color-border-box);\n",
       "  border-radius: 0.25em;\n",
       "  box-sizing: border-box;\n",
       "  margin-bottom: 0.5em;\n",
       "  /* unfitted */\n",
       "  background-color: var(--sklearn-color-unfitted-level-0);\n",
       "}\n",
       "\n",
       "#sk-container-id-2 div.sk-estimator.fitted {\n",
       "  /* fitted */\n",
       "  background-color: var(--sklearn-color-fitted-level-0);\n",
       "}\n",
       "\n",
       "/* on hover */\n",
       "#sk-container-id-2 div.sk-estimator:hover {\n",
       "  /* unfitted */\n",
       "  background-color: var(--sklearn-color-unfitted-level-2);\n",
       "}\n",
       "\n",
       "#sk-container-id-2 div.sk-estimator.fitted:hover {\n",
       "  /* fitted */\n",
       "  background-color: var(--sklearn-color-fitted-level-2);\n",
       "}\n",
       "\n",
       "/* Specification for estimator info (e.g. \"i\" and \"?\") */\n",
       "\n",
       "/* Common style for \"i\" and \"?\" */\n",
       "\n",
       ".sk-estimator-doc-link,\n",
       "a:link.sk-estimator-doc-link,\n",
       "a:visited.sk-estimator-doc-link {\n",
       "  float: right;\n",
       "  font-size: smaller;\n",
       "  line-height: 1em;\n",
       "  font-family: monospace;\n",
       "  background-color: var(--sklearn-color-background);\n",
       "  border-radius: 1em;\n",
       "  height: 1em;\n",
       "  width: 1em;\n",
       "  text-decoration: none !important;\n",
       "  margin-left: 0.5em;\n",
       "  text-align: center;\n",
       "  /* unfitted */\n",
       "  border: var(--sklearn-color-unfitted-level-1) 1pt solid;\n",
       "  color: var(--sklearn-color-unfitted-level-1);\n",
       "}\n",
       "\n",
       ".sk-estimator-doc-link.fitted,\n",
       "a:link.sk-estimator-doc-link.fitted,\n",
       "a:visited.sk-estimator-doc-link.fitted {\n",
       "  /* fitted */\n",
       "  border: var(--sklearn-color-fitted-level-1) 1pt solid;\n",
       "  color: var(--sklearn-color-fitted-level-1);\n",
       "}\n",
       "\n",
       "/* On hover */\n",
       "div.sk-estimator:hover .sk-estimator-doc-link:hover,\n",
       ".sk-estimator-doc-link:hover,\n",
       "div.sk-label-container:hover .sk-estimator-doc-link:hover,\n",
       ".sk-estimator-doc-link:hover {\n",
       "  /* unfitted */\n",
       "  background-color: var(--sklearn-color-unfitted-level-3);\n",
       "  color: var(--sklearn-color-background);\n",
       "  text-decoration: none;\n",
       "}\n",
       "\n",
       "div.sk-estimator.fitted:hover .sk-estimator-doc-link.fitted:hover,\n",
       ".sk-estimator-doc-link.fitted:hover,\n",
       "div.sk-label-container:hover .sk-estimator-doc-link.fitted:hover,\n",
       ".sk-estimator-doc-link.fitted:hover {\n",
       "  /* fitted */\n",
       "  background-color: var(--sklearn-color-fitted-level-3);\n",
       "  color: var(--sklearn-color-background);\n",
       "  text-decoration: none;\n",
       "}\n",
       "\n",
       "/* Span, style for the box shown on hovering the info icon */\n",
       ".sk-estimator-doc-link span {\n",
       "  display: none;\n",
       "  z-index: 9999;\n",
       "  position: relative;\n",
       "  font-weight: normal;\n",
       "  right: .2ex;\n",
       "  padding: .5ex;\n",
       "  margin: .5ex;\n",
       "  width: min-content;\n",
       "  min-width: 20ex;\n",
       "  max-width: 50ex;\n",
       "  color: var(--sklearn-color-text);\n",
       "  box-shadow: 2pt 2pt 4pt #999;\n",
       "  /* unfitted */\n",
       "  background: var(--sklearn-color-unfitted-level-0);\n",
       "  border: .5pt solid var(--sklearn-color-unfitted-level-3);\n",
       "}\n",
       "\n",
       ".sk-estimator-doc-link.fitted span {\n",
       "  /* fitted */\n",
       "  background: var(--sklearn-color-fitted-level-0);\n",
       "  border: var(--sklearn-color-fitted-level-3);\n",
       "}\n",
       "\n",
       ".sk-estimator-doc-link:hover span {\n",
       "  display: block;\n",
       "}\n",
       "\n",
       "/* \"?\"-specific style due to the `<a>` HTML tag */\n",
       "\n",
       "#sk-container-id-2 a.estimator_doc_link {\n",
       "  float: right;\n",
       "  font-size: 1rem;\n",
       "  line-height: 1em;\n",
       "  font-family: monospace;\n",
       "  background-color: var(--sklearn-color-background);\n",
       "  border-radius: 1rem;\n",
       "  height: 1rem;\n",
       "  width: 1rem;\n",
       "  text-decoration: none;\n",
       "  /* unfitted */\n",
       "  color: var(--sklearn-color-unfitted-level-1);\n",
       "  border: var(--sklearn-color-unfitted-level-1) 1pt solid;\n",
       "}\n",
       "\n",
       "#sk-container-id-2 a.estimator_doc_link.fitted {\n",
       "  /* fitted */\n",
       "  border: var(--sklearn-color-fitted-level-1) 1pt solid;\n",
       "  color: var(--sklearn-color-fitted-level-1);\n",
       "}\n",
       "\n",
       "/* On hover */\n",
       "#sk-container-id-2 a.estimator_doc_link:hover {\n",
       "  /* unfitted */\n",
       "  background-color: var(--sklearn-color-unfitted-level-3);\n",
       "  color: var(--sklearn-color-background);\n",
       "  text-decoration: none;\n",
       "}\n",
       "\n",
       "#sk-container-id-2 a.estimator_doc_link.fitted:hover {\n",
       "  /* fitted */\n",
       "  background-color: var(--sklearn-color-fitted-level-3);\n",
       "}\n",
       "</style><div id=\"sk-container-id-2\" class=\"sk-top-container\"><div class=\"sk-text-repr-fallback\"><pre>MLPRegressor(alpha=0.1, hidden_layer_sizes=(50,), learning_rate=&#x27;invscaling&#x27;,\n",
       "             max_iter=1000, solver=&#x27;sgd&#x27;)</pre><b>In a Jupyter environment, please rerun this cell to show the HTML representation or trust the notebook. <br />On GitHub, the HTML representation is unable to render, please try loading this page with nbviewer.org.</b></div><div class=\"sk-container\" hidden><div class=\"sk-item\"><div class=\"sk-estimator fitted sk-toggleable\"><input class=\"sk-toggleable__control sk-hidden--visually\" id=\"sk-estimator-id-2\" type=\"checkbox\" checked><label for=\"sk-estimator-id-2\" class=\"sk-toggleable__label fitted sk-toggleable__label-arrow\"><div><div>MLPRegressor</div></div><div><a class=\"sk-estimator-doc-link fitted\" rel=\"noreferrer\" target=\"_blank\" href=\"https://scikit-learn.org/1.6/modules/generated/sklearn.neural_network.MLPRegressor.html\">?<span>Documentation for MLPRegressor</span></a><span class=\"sk-estimator-doc-link fitted\">i<span>Fitted</span></span></div></label><div class=\"sk-toggleable__content fitted\"><pre>MLPRegressor(alpha=0.1, hidden_layer_sizes=(50,), learning_rate=&#x27;invscaling&#x27;,\n",
       "             max_iter=1000, solver=&#x27;sgd&#x27;)</pre></div> </div></div></div></div>"
      ],
      "text/plain": [
       "MLPRegressor(alpha=0.1, hidden_layer_sizes=(50,), learning_rate='invscaling',\n",
       "             max_iter=1000, solver='sgd')"
      ]
     },
     "execution_count": 88,
     "metadata": {},
     "output_type": "execute_result"
    }
   ],
   "source": [
    "reg_mlp"
   ]
  },
  {
   "cell_type": "code",
   "execution_count": null,
   "id": "c7b99d63",
   "metadata": {},
   "outputs": [
    {
     "data": {
      "text/plain": [
       "<matplotlib.legend.Legend at 0x1be59b8fdc0>"
      ]
     },
     "execution_count": 94,
     "metadata": {},
     "output_type": "execute_result"
    },
    {
     "data": {
      "image/png": "[encoded data removed]",
      "text/plain": [
       "<Figure size 640x480 with 1 Axes>"
      ]
     },
     "metadata": {},
     "output_type": "display_data"
    }
   ],
   "source": [
    "train_mse = mean_squared_error(reg_y_train, reg_mlp.predict(reg_X_train))\n",
    "test_mse = mean_squared_error(reg_y_test, reg_mlp.predict(reg_X_test))\n",
    "plt.figure(figsize=(15, 10))\n",
    "plt.plot(reg_mlp.loss_curve_, label='Ошибка обучения')\n",
    "plt.title('MLPRegressor: Функция потерь (MSE)')\n",
    "plt.xlabel('Эпохи')\n",
    "plt.ylabel('MSE')\n",
    "plt.legend()"
   ]
  },
  {
   "cell_type": "code",
   "execution_count": 89,
   "id": "64d4e0ff",
   "metadata": {},
   "outputs": [
    {
     "data": {
      "text/html": [
       "<pre style=\"white-space:pre;overflow-x:auto;line-height:normal;font-family:Menlo,'DejaVu Sans Mono',consolas,'Courier New',monospace\"><span style=\"font-weight: bold\">Model: \"sequential_11\"</span>\n",
       "</pre>\n"
      ],
      "text/plain": [
       "\u001b[1mModel: \"sequential_11\"\u001b[0m\n"
      ]
     },
     "metadata": {},
     "output_type": "display_data"
    },
    {
     "data": {
      "text/html": [
       "<pre style=\"white-space:pre;overflow-x:auto;line-height:normal;font-family:Menlo,'DejaVu Sans Mono',consolas,'Courier New',monospace\">┏━━━━━━━━━━━━━━━━━━━━━━━━━━━━━━━━━┳━━━━━━━━━━━━━━━━━━━━━━━━┳━━━━━━━━━━━━━━━┓\n",
       "┃<span style=\"font-weight: bold\"> Layer (type)                    </span>┃<span style=\"font-weight: bold\"> Output Shape           </span>┃<span style=\"font-weight: bold\">       Param # </span>┃\n",
       "┡━━━━━━━━━━━━━━━━━━━━━━━━━━━━━━━━━╇━━━━━━━━━━━━━━━━━━━━━━━━╇━━━━━━━━━━━━━━━┩\n",
       "│ dense_33 (<span style=\"color: #0087ff; text-decoration-color: #0087ff\">Dense</span>)                │ (<span style=\"color: #00d7ff; text-decoration-color: #00d7ff\">None</span>, <span style=\"color: #00af00; text-decoration-color: #00af00\">64</span>)             │           <span style=\"color: #00af00; text-decoration-color: #00af00\">192</span> │\n",
       "├─────────────────────────────────┼────────────────────────┼───────────────┤\n",
       "│ dense_34 (<span style=\"color: #0087ff; text-decoration-color: #0087ff\">Dense</span>)                │ (<span style=\"color: #00d7ff; text-decoration-color: #00d7ff\">None</span>, <span style=\"color: #00af00; text-decoration-color: #00af00\">32</span>)             │         <span style=\"color: #00af00; text-decoration-color: #00af00\">2,080</span> │\n",
       "├─────────────────────────────────┼────────────────────────┼───────────────┤\n",
       "│ dense_35 (<span style=\"color: #0087ff; text-decoration-color: #0087ff\">Dense</span>)                │ (<span style=\"color: #00d7ff; text-decoration-color: #00d7ff\">None</span>, <span style=\"color: #00af00; text-decoration-color: #00af00\">2</span>)              │            <span style=\"color: #00af00; text-decoration-color: #00af00\">66</span> │\n",
       "└─────────────────────────────────┴────────────────────────┴───────────────┘\n",
       "</pre>\n"
      ],
      "text/plain": [
       "┏━━━━━━━━━━━━━━━━━━━━━━━━━━━━━━━━━┳━━━━━━━━━━━━━━━━━━━━━━━━┳━━━━━━━━━━━━━━━┓\n",
       "┃\u001b[1m \u001b[0m\u001b[1mLayer (type)                   \u001b[0m\u001b[1m \u001b[0m┃\u001b[1m \u001b[0m\u001b[1mOutput Shape          \u001b[0m\u001b[1m \u001b[0m┃\u001b[1m \u001b[0m\u001b[1m      Param #\u001b[0m\u001b[1m \u001b[0m┃\n",
       "┡━━━━━━━━━━━━━━━━━━━━━━━━━━━━━━━━━╇━━━━━━━━━━━━━━━━━━━━━━━━╇━━━━━━━━━━━━━━━┩\n",
       "│ dense_33 (\u001b[38;5;33mDense\u001b[0m)                │ (\u001b[38;5;45mNone\u001b[0m, \u001b[38;5;34m64\u001b[0m)             │           \u001b[38;5;34m192\u001b[0m │\n",
       "├─────────────────────────────────┼────────────────────────┼───────────────┤\n",
       "│ dense_34 (\u001b[38;5;33mDense\u001b[0m)                │ (\u001b[38;5;45mNone\u001b[0m, \u001b[38;5;34m32\u001b[0m)             │         \u001b[38;5;34m2,080\u001b[0m │\n",
       "├─────────────────────────────────┼────────────────────────┼───────────────┤\n",
       "│ dense_35 (\u001b[38;5;33mDense\u001b[0m)                │ (\u001b[38;5;45mNone\u001b[0m, \u001b[38;5;34m2\u001b[0m)              │            \u001b[38;5;34m66\u001b[0m │\n",
       "└─────────────────────────────────┴────────────────────────┴───────────────┘\n"
      ]
     },
     "metadata": {},
     "output_type": "display_data"
    },
    {
     "data": {
      "text/html": [
       "<pre style=\"white-space:pre;overflow-x:auto;line-height:normal;font-family:Menlo,'DejaVu Sans Mono',consolas,'Courier New',monospace\"><span style=\"font-weight: bold\"> Total params: </span><span style=\"color: #00af00; text-decoration-color: #00af00\">7,016</span> (27.41 KB)\n",
       "</pre>\n"
      ],
      "text/plain": [
       "\u001b[1m Total params: \u001b[0m\u001b[38;5;34m7,016\u001b[0m (27.41 KB)\n"
      ]
     },
     "metadata": {},
     "output_type": "display_data"
    },
    {
     "data": {
      "text/html": [
       "<pre style=\"white-space:pre;overflow-x:auto;line-height:normal;font-family:Menlo,'DejaVu Sans Mono',consolas,'Courier New',monospace\"><span style=\"font-weight: bold\"> Trainable params: </span><span style=\"color: #00af00; text-decoration-color: #00af00\">2,338</span> (9.13 KB)\n",
       "</pre>\n"
      ],
      "text/plain": [
       "\u001b[1m Trainable params: \u001b[0m\u001b[38;5;34m2,338\u001b[0m (9.13 KB)\n"
      ]
     },
     "metadata": {},
     "output_type": "display_data"
    },
    {
     "data": {
      "text/html": [
       "<pre style=\"white-space:pre;overflow-x:auto;line-height:normal;font-family:Menlo,'DejaVu Sans Mono',consolas,'Courier New',monospace\"><span style=\"font-weight: bold\"> Non-trainable params: </span><span style=\"color: #00af00; text-decoration-color: #00af00\">0</span> (0.00 B)\n",
       "</pre>\n"
      ],
      "text/plain": [
       "\u001b[1m Non-trainable params: \u001b[0m\u001b[38;5;34m0\u001b[0m (0.00 B)\n"
      ]
     },
     "metadata": {},
     "output_type": "display_data"
    },
    {
     "data": {
      "text/html": [
       "<pre style=\"white-space:pre;overflow-x:auto;line-height:normal;font-family:Menlo,'DejaVu Sans Mono',consolas,'Courier New',monospace\"><span style=\"font-weight: bold\"> Optimizer params: </span><span style=\"color: #00af00; text-decoration-color: #00af00\">4,678</span> (18.28 KB)\n",
       "</pre>\n"
      ],
      "text/plain": [
       "\u001b[1m Optimizer params: \u001b[0m\u001b[38;5;34m4,678\u001b[0m (18.28 KB)\n"
      ]
     },
     "metadata": {},
     "output_type": "display_data"
    }
   ],
   "source": [
    "class_nn.summary()"
   ]
  },
  {
   "cell_type": "code",
   "execution_count": 97,
   "id": "658a3c90",
   "metadata": {},
   "outputs": [
    {
     "data": {
      "text/plain": [
       "<matplotlib.legend.Legend at 0x1be56ea6590>"
      ]
     },
     "execution_count": 97,
     "metadata": {},
     "output_type": "execute_result"
    },
    {
     "data": {
      "image/png": "[encoded data removed]",
      "text/plain": [
       "<Figure size 1500x1000 with 1 Axes>"
      ]
     },
     "metadata": {},
     "output_type": "display_data"
    }
   ],
   "source": [
    "keras_clf_history = class_nn.history.history\n",
    "plt.figure(figsize=(15, 10))\n",
    "plt.plot(keras_clf_history['loss'], label='Ошибка обучения')\n",
    "plt.plot(keras_clf_history['accuracy'], label='Точность обучения')\n",
    "plt.title('Keras Classifier: Потери и точность')\n",
    "plt.xlabel('Эпохи')\n",
    "plt.ylabel('Значение')\n",
    "plt.legend()"
   ]
  },
  {
   "cell_type": "code",
   "execution_count": 90,
   "id": "a593a980",
   "metadata": {},
   "outputs": [
    {
     "data": {
      "text/html": [
       "<pre style=\"white-space:pre;overflow-x:auto;line-height:normal;font-family:Menlo,'DejaVu Sans Mono',consolas,'Courier New',monospace\"><span style=\"font-weight: bold\">Model: \"sequential\"</span>\n",
       "</pre>\n"
      ],
      "text/plain": [
       "\u001b[1mModel: \"sequential\"\u001b[0m\n"
      ]
     },
     "metadata": {},
     "output_type": "display_data"
    },
    {
     "data": {
      "text/html": [
       "<pre style=\"white-space:pre;overflow-x:auto;line-height:normal;font-family:Menlo,'DejaVu Sans Mono',consolas,'Courier New',monospace\">┏━━━━━━━━━━━━━━━━━━━━━━━━━━━━━━━━━┳━━━━━━━━━━━━━━━━━━━━━━━━┳━━━━━━━━━━━━━━━┓\n",
       "┃<span style=\"font-weight: bold\"> Layer (type)                    </span>┃<span style=\"font-weight: bold\"> Output Shape           </span>┃<span style=\"font-weight: bold\">       Param # </span>┃\n",
       "┡━━━━━━━━━━━━━━━━━━━━━━━━━━━━━━━━━╇━━━━━━━━━━━━━━━━━━━━━━━━╇━━━━━━━━━━━━━━━┩\n",
       "│ dense (<span style=\"color: #0087ff; text-decoration-color: #0087ff\">Dense</span>)                   │ (<span style=\"color: #00d7ff; text-decoration-color: #00d7ff\">None</span>, <span style=\"color: #00af00; text-decoration-color: #00af00\">64</span>)             │           <span style=\"color: #00af00; text-decoration-color: #00af00\">640</span> │\n",
       "├─────────────────────────────────┼────────────────────────┼───────────────┤\n",
       "│ dense_1 (<span style=\"color: #0087ff; text-decoration-color: #0087ff\">Dense</span>)                 │ (<span style=\"color: #00d7ff; text-decoration-color: #00d7ff\">None</span>, <span style=\"color: #00af00; text-decoration-color: #00af00\">32</span>)             │         <span style=\"color: #00af00; text-decoration-color: #00af00\">2,080</span> │\n",
       "├─────────────────────────────────┼────────────────────────┼───────────────┤\n",
       "│ dense_2 (<span style=\"color: #0087ff; text-decoration-color: #0087ff\">Dense</span>)                 │ (<span style=\"color: #00d7ff; text-decoration-color: #00d7ff\">None</span>, <span style=\"color: #00af00; text-decoration-color: #00af00\">1</span>)              │            <span style=\"color: #00af00; text-decoration-color: #00af00\">33</span> │\n",
       "└─────────────────────────────────┴────────────────────────┴───────────────┘\n",
       "</pre>\n"
      ],
      "text/plain": [
       "┏━━━━━━━━━━━━━━━━━━━━━━━━━━━━━━━━━┳━━━━━━━━━━━━━━━━━━━━━━━━┳━━━━━━━━━━━━━━━┓\n",
       "┃\u001b[1m \u001b[0m\u001b[1mLayer (type)                   \u001b[0m\u001b[1m \u001b[0m┃\u001b[1m \u001b[0m\u001b[1mOutput Shape          \u001b[0m\u001b[1m \u001b[0m┃\u001b[1m \u001b[0m\u001b[1m      Param #\u001b[0m\u001b[1m \u001b[0m┃\n",
       "┡━━━━━━━━━━━━━━━━━━━━━━━━━━━━━━━━━╇━━━━━━━━━━━━━━━━━━━━━━━━╇━━━━━━━━━━━━━━━┩\n",
       "│ dense (\u001b[38;5;33mDense\u001b[0m)                   │ (\u001b[38;5;45mNone\u001b[0m, \u001b[38;5;34m64\u001b[0m)             │           \u001b[38;5;34m640\u001b[0m │\n",
       "├─────────────────────────────────┼────────────────────────┼───────────────┤\n",
       "│ dense_1 (\u001b[38;5;33mDense\u001b[0m)                 │ (\u001b[38;5;45mNone\u001b[0m, \u001b[38;5;34m32\u001b[0m)             │         \u001b[38;5;34m2,080\u001b[0m │\n",
       "├─────────────────────────────────┼────────────────────────┼───────────────┤\n",
       "│ dense_2 (\u001b[38;5;33mDense\u001b[0m)                 │ (\u001b[38;5;45mNone\u001b[0m, \u001b[38;5;34m1\u001b[0m)              │            \u001b[38;5;34m33\u001b[0m │\n",
       "└─────────────────────────────────┴────────────────────────┴───────────────┘\n"
      ]
     },
     "metadata": {},
     "output_type": "display_data"
    },
    {
     "data": {
      "text/html": [
       "<pre style=\"white-space:pre;overflow-x:auto;line-height:normal;font-family:Menlo,'DejaVu Sans Mono',consolas,'Courier New',monospace\"><span style=\"font-weight: bold\"> Total params: </span><span style=\"color: #00af00; text-decoration-color: #00af00\">2,753</span> (10.75 KB)\n",
       "</pre>\n"
      ],
      "text/plain": [
       "\u001b[1m Total params: \u001b[0m\u001b[38;5;34m2,753\u001b[0m (10.75 KB)\n"
      ]
     },
     "metadata": {},
     "output_type": "display_data"
    },
    {
     "data": {
      "text/html": [
       "<pre style=\"white-space:pre;overflow-x:auto;line-height:normal;font-family:Menlo,'DejaVu Sans Mono',consolas,'Courier New',monospace\"><span style=\"font-weight: bold\"> Trainable params: </span><span style=\"color: #00af00; text-decoration-color: #00af00\">2,753</span> (10.75 KB)\n",
       "</pre>\n"
      ],
      "text/plain": [
       "\u001b[1m Trainable params: \u001b[0m\u001b[38;5;34m2,753\u001b[0m (10.75 KB)\n"
      ]
     },
     "metadata": {},
     "output_type": "display_data"
    },
    {
     "data": {
      "text/html": [
       "<pre style=\"white-space:pre;overflow-x:auto;line-height:normal;font-family:Menlo,'DejaVu Sans Mono',consolas,'Courier New',monospace\"><span style=\"font-weight: bold\"> Non-trainable params: </span><span style=\"color: #00af00; text-decoration-color: #00af00\">0</span> (0.00 B)\n",
       "</pre>\n"
      ],
      "text/plain": [
       "\u001b[1m Non-trainable params: \u001b[0m\u001b[38;5;34m0\u001b[0m (0.00 B)\n"
      ]
     },
     "metadata": {},
     "output_type": "display_data"
    }
   ],
   "source": [
    "reg_nn.summary()"
   ]
  }
 ],
 "metadata": {
  "kernelspec": {
   "display_name": "Python 3",
   "language": "python",
   "name": "python3"
  },
  "language_info": {
   "codemirror_mode": {
    "name": "ipython",
    "version": 3
   },
   "file_extension": ".py",
   "mimetype": "text/x-python",
   "name": "python",
   "nbconvert_exporter": "python",
   "pygments_lexer": "ipython3",
   "version": "3.10.5"
  }
 },
 "nbformat": 4,
 "nbformat_minor": 5
}
